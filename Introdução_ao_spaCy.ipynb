{
  "nbformat": 4,
  "nbformat_minor": 0,
  "metadata": {
    "colab": {
      "name": "Introdução ao spaCy.ipynb",
      "provenance": [],
      "collapsed_sections": []
    },
    "kernelspec": {
      "name": "python3",
      "display_name": "Python 3"
    }
  },
  "cells": [
    {
      "cell_type": "markdown",
      "metadata": {
        "id": "RPuBqCCFCgvR"
      },
      "source": [
        "# Introdução ao spaCy"
      ]
    },
    {
      "cell_type": "markdown",
      "metadata": {
        "id": "DMvt1D5QESDK"
      },
      "source": [
        "# Etapa 1: Instalação do spaCy"
      ]
    },
    {
      "cell_type": "code",
      "metadata": {
        "id": "bGBJTJK-L7uV",
        "colab": {
          "base_uri": "https://localhost:8080/",
          "height": 888
        },
        "outputId": "d97944bb-e39e-403d-95e4-e2c2824725f5"
      },
      "source": [
        "#pip install spacy --upgrade\n",
        "#pip install spacy==2.2.3"
      ],
      "execution_count": 5,
      "outputs": [
        {
          "output_type": "stream",
          "text": [
            "Collecting spacy==2.2.3\n",
            "\u001b[?25l  Downloading https://files.pythonhosted.org/packages/47/13/80ad28ef7a16e2a86d16d73e28588be5f1085afd3e85e4b9b912bd700e8a/spacy-2.2.3-cp36-cp36m-manylinux1_x86_64.whl (10.4MB)\n",
            "\u001b[K     |████████████████████████████████| 10.4MB 11.5MB/s \n",
            "\u001b[?25hRequirement already satisfied: requests<3.0.0,>=2.13.0 in /usr/local/lib/python3.6/dist-packages (from spacy==2.2.3) (2.23.0)\n",
            "Requirement already satisfied: cymem<2.1.0,>=2.0.2 in /usr/local/lib/python3.6/dist-packages (from spacy==2.2.3) (2.0.5)\n",
            "Collecting thinc<7.4.0,>=7.3.0\n",
            "\u001b[?25l  Downloading https://files.pythonhosted.org/packages/07/59/6bb553bc9a5f072d3cd479fc939fea0f6f682892f1f5cff98de5c9b615bb/thinc-7.3.1-cp36-cp36m-manylinux1_x86_64.whl (2.2MB)\n",
            "\u001b[K     |████████████████████████████████| 2.2MB 49.1MB/s \n",
            "\u001b[?25hCollecting catalogue<1.1.0,>=0.0.7\n",
            "  Downloading https://files.pythonhosted.org/packages/6c/f9/9a5658e2f56932e41eb264941f9a2cb7f3ce41a80cb36b2af6ab78e2f8af/catalogue-1.0.0-py2.py3-none-any.whl\n",
            "Collecting srsly<1.1.0,>=0.1.0\n",
            "\u001b[?25l  Downloading https://files.pythonhosted.org/packages/52/61/56e8aac918a220f53b11ce341eab7789e6b50e5d9b191a281dbb983e838e/srsly-1.0.5-cp36-cp36m-manylinux2014_x86_64.whl (184kB)\n",
            "\u001b[K     |████████████████████████████████| 184kB 51.1MB/s \n",
            "\u001b[?25hRequirement already satisfied: murmurhash<1.1.0,>=0.28.0 in /usr/local/lib/python3.6/dist-packages (from spacy==2.2.3) (1.0.5)\n",
            "Requirement already satisfied: plac<1.2.0,>=0.9.6 in /usr/local/lib/python3.6/dist-packages (from spacy==2.2.3) (1.1.3)\n",
            "Requirement already satisfied: setuptools in /usr/local/lib/python3.6/dist-packages (from spacy==2.2.3) (53.0.0)\n",
            "Requirement already satisfied: blis<0.5.0,>=0.4.0 in /usr/local/lib/python3.6/dist-packages (from spacy==2.2.3) (0.4.1)\n",
            "Requirement already satisfied: wasabi<1.1.0,>=0.4.0 in /usr/local/lib/python3.6/dist-packages (from spacy==2.2.3) (0.8.2)\n",
            "Requirement already satisfied: numpy>=1.15.0 in /usr/local/lib/python3.6/dist-packages (from spacy==2.2.3) (1.19.5)\n",
            "Requirement already satisfied: preshed<3.1.0,>=3.0.2 in /usr/local/lib/python3.6/dist-packages (from spacy==2.2.3) (3.0.5)\n",
            "Requirement already satisfied: idna<3,>=2.5 in /usr/local/lib/python3.6/dist-packages (from requests<3.0.0,>=2.13.0->spacy==2.2.3) (2.10)\n",
            "Requirement already satisfied: urllib3!=1.25.0,!=1.25.1,<1.26,>=1.21.1 in /usr/local/lib/python3.6/dist-packages (from requests<3.0.0,>=2.13.0->spacy==2.2.3) (1.24.3)\n",
            "Requirement already satisfied: certifi>=2017.4.17 in /usr/local/lib/python3.6/dist-packages (from requests<3.0.0,>=2.13.0->spacy==2.2.3) (2020.12.5)\n",
            "Requirement already satisfied: chardet<4,>=3.0.2 in /usr/local/lib/python3.6/dist-packages (from requests<3.0.0,>=2.13.0->spacy==2.2.3) (3.0.4)\n",
            "Requirement already satisfied: tqdm<5.0.0,>=4.10.0 in /usr/local/lib/python3.6/dist-packages (from thinc<7.4.0,>=7.3.0->spacy==2.2.3) (4.41.1)\n",
            "Requirement already satisfied: importlib-metadata>=0.20; python_version < \"3.8\" in /usr/local/lib/python3.6/dist-packages (from catalogue<1.1.0,>=0.0.7->spacy==2.2.3) (3.4.0)\n",
            "Requirement already satisfied: typing-extensions>=3.6.4; python_version < \"3.8\" in /usr/local/lib/python3.6/dist-packages (from importlib-metadata>=0.20; python_version < \"3.8\"->catalogue<1.1.0,>=0.0.7->spacy==2.2.3) (3.7.4.3)\n",
            "Requirement already satisfied: zipp>=0.5 in /usr/local/lib/python3.6/dist-packages (from importlib-metadata>=0.20; python_version < \"3.8\"->catalogue<1.1.0,>=0.0.7->spacy==2.2.3) (3.4.0)\n",
            "\u001b[31mERROR: pt-core-news-sm 3.0.0 has requirement spacy<3.1.0,>=3.0.0, but you'll have spacy 2.2.3 which is incompatible.\u001b[0m\n",
            "Installing collected packages: srsly, thinc, catalogue, spacy\n",
            "  Found existing installation: srsly 2.4.0\n",
            "    Uninstalling srsly-2.4.0:\n",
            "      Successfully uninstalled srsly-2.4.0\n",
            "  Found existing installation: thinc 8.0.1\n",
            "    Uninstalling thinc-8.0.1:\n",
            "      Successfully uninstalled thinc-8.0.1\n",
            "  Found existing installation: catalogue 2.0.1\n",
            "    Uninstalling catalogue-2.0.1:\n",
            "      Successfully uninstalled catalogue-2.0.1\n",
            "  Found existing installation: spacy 3.0.1\n",
            "    Uninstalling spacy-3.0.1:\n",
            "      Successfully uninstalled spacy-3.0.1\n",
            "Successfully installed catalogue-1.0.0 spacy-2.2.3 srsly-1.0.5 thinc-7.3.1\n"
          ],
          "name": "stdout"
        },
        {
          "output_type": "display_data",
          "data": {
            "application/vnd.colab-display-data+json": {
              "pip_warning": {
                "packages": [
                  "catalogue",
                  "spacy",
                  "srsly",
                  "thinc"
                ]
              }
            }
          },
          "metadata": {
            "tags": []
          }
        }
      ]
    },
    {
      "cell_type": "code",
      "metadata": {
        "id": "PktHT0dXMNIS",
        "colab": {
          "base_uri": "https://localhost:8080/",
          "height": 35
        },
        "outputId": "11d8e3f4-b0b9-4513-a8bc-30a32e52b263"
      },
      "source": [
        "import spacy\n",
        "spacy.__version__"
      ],
      "execution_count": 1,
      "outputs": [
        {
          "output_type": "execute_result",
          "data": {
            "application/vnd.google.colaboratory.intrinsic+json": {
              "type": "string"
            },
            "text/plain": [
              "'2.2.3'"
            ]
          },
          "metadata": {
            "tags": []
          },
          "execution_count": 1
        }
      ]
    },
    {
      "cell_type": "code",
      "metadata": {
        "id": "TXvCmKxLMdoF",
        "colab": {
          "base_uri": "https://localhost:8080/"
        },
        "outputId": "a88eed14-9e4e-434d-ce89-d70772cf84ff"
      },
      "source": [
        "!python -m spacy download pt"
      ],
      "execution_count": 2,
      "outputs": [
        {
          "output_type": "stream",
          "text": [
            "Collecting pt_core_news_sm==2.2.5\n",
            "\u001b[?25l  Downloading https://github.com/explosion/spacy-models/releases/download/pt_core_news_sm-2.2.5/pt_core_news_sm-2.2.5.tar.gz (21.2MB)\n",
            "\u001b[K     |████████████████████████████████| 21.2MB 1.1MB/s \n",
            "\u001b[?25hRequirement already satisfied: spacy>=2.2.2 in /usr/local/lib/python3.6/dist-packages (from pt_core_news_sm==2.2.5) (2.2.3)\n",
            "Requirement already satisfied: wasabi<1.1.0,>=0.4.0 in /usr/local/lib/python3.6/dist-packages (from spacy>=2.2.2->pt_core_news_sm==2.2.5) (0.8.2)\n",
            "Requirement already satisfied: srsly<1.1.0,>=0.1.0 in /usr/local/lib/python3.6/dist-packages (from spacy>=2.2.2->pt_core_news_sm==2.2.5) (1.0.5)\n",
            "Requirement already satisfied: setuptools in /usr/local/lib/python3.6/dist-packages (from spacy>=2.2.2->pt_core_news_sm==2.2.5) (53.0.0)\n",
            "Requirement already satisfied: numpy>=1.15.0 in /usr/local/lib/python3.6/dist-packages (from spacy>=2.2.2->pt_core_news_sm==2.2.5) (1.19.5)\n",
            "Requirement already satisfied: requests<3.0.0,>=2.13.0 in /usr/local/lib/python3.6/dist-packages (from spacy>=2.2.2->pt_core_news_sm==2.2.5) (2.23.0)\n",
            "Requirement already satisfied: plac<1.2.0,>=0.9.6 in /usr/local/lib/python3.6/dist-packages (from spacy>=2.2.2->pt_core_news_sm==2.2.5) (1.1.3)\n",
            "Requirement already satisfied: blis<0.5.0,>=0.4.0 in /usr/local/lib/python3.6/dist-packages (from spacy>=2.2.2->pt_core_news_sm==2.2.5) (0.4.1)\n",
            "Requirement already satisfied: murmurhash<1.1.0,>=0.28.0 in /usr/local/lib/python3.6/dist-packages (from spacy>=2.2.2->pt_core_news_sm==2.2.5) (1.0.5)\n",
            "Requirement already satisfied: thinc<7.4.0,>=7.3.0 in /usr/local/lib/python3.6/dist-packages (from spacy>=2.2.2->pt_core_news_sm==2.2.5) (7.3.1)\n",
            "Requirement already satisfied: catalogue<1.1.0,>=0.0.7 in /usr/local/lib/python3.6/dist-packages (from spacy>=2.2.2->pt_core_news_sm==2.2.5) (1.0.0)\n",
            "Requirement already satisfied: cymem<2.1.0,>=2.0.2 in /usr/local/lib/python3.6/dist-packages (from spacy>=2.2.2->pt_core_news_sm==2.2.5) (2.0.5)\n",
            "Requirement already satisfied: preshed<3.1.0,>=3.0.2 in /usr/local/lib/python3.6/dist-packages (from spacy>=2.2.2->pt_core_news_sm==2.2.5) (3.0.5)\n",
            "Requirement already satisfied: certifi>=2017.4.17 in /usr/local/lib/python3.6/dist-packages (from requests<3.0.0,>=2.13.0->spacy>=2.2.2->pt_core_news_sm==2.2.5) (2020.12.5)\n",
            "Requirement already satisfied: urllib3!=1.25.0,!=1.25.1,<1.26,>=1.21.1 in /usr/local/lib/python3.6/dist-packages (from requests<3.0.0,>=2.13.0->spacy>=2.2.2->pt_core_news_sm==2.2.5) (1.24.3)\n",
            "Requirement already satisfied: idna<3,>=2.5 in /usr/local/lib/python3.6/dist-packages (from requests<3.0.0,>=2.13.0->spacy>=2.2.2->pt_core_news_sm==2.2.5) (2.10)\n",
            "Requirement already satisfied: chardet<4,>=3.0.2 in /usr/local/lib/python3.6/dist-packages (from requests<3.0.0,>=2.13.0->spacy>=2.2.2->pt_core_news_sm==2.2.5) (3.0.4)\n",
            "Requirement already satisfied: tqdm<5.0.0,>=4.10.0 in /usr/local/lib/python3.6/dist-packages (from thinc<7.4.0,>=7.3.0->spacy>=2.2.2->pt_core_news_sm==2.2.5) (4.41.1)\n",
            "Requirement already satisfied: importlib-metadata>=0.20; python_version < \"3.8\" in /usr/local/lib/python3.6/dist-packages (from catalogue<1.1.0,>=0.0.7->spacy>=2.2.2->pt_core_news_sm==2.2.5) (3.4.0)\n",
            "Requirement already satisfied: typing-extensions>=3.6.4; python_version < \"3.8\" in /usr/local/lib/python3.6/dist-packages (from importlib-metadata>=0.20; python_version < \"3.8\"->catalogue<1.1.0,>=0.0.7->spacy>=2.2.2->pt_core_news_sm==2.2.5) (3.7.4.3)\n",
            "Requirement already satisfied: zipp>=0.5 in /usr/local/lib/python3.6/dist-packages (from importlib-metadata>=0.20; python_version < \"3.8\"->catalogue<1.1.0,>=0.0.7->spacy>=2.2.2->pt_core_news_sm==2.2.5) (3.4.0)\n",
            "Building wheels for collected packages: pt-core-news-sm\n",
            "  Building wheel for pt-core-news-sm (setup.py) ... \u001b[?25l\u001b[?25hdone\n",
            "  Created wheel for pt-core-news-sm: filename=pt_core_news_sm-2.2.5-cp36-none-any.whl size=21186283 sha256=22bf85ea8f871fe252712f99c266b6d8779400077b2ff62d4ce1a1b7441f5bb1\n",
            "  Stored in directory: /tmp/pip-ephem-wheel-cache-ac087wnh/wheels/ea/94/74/ec9be8418e9231b471be5dc7e1b45dd670019a376a6b5bc1c0\n",
            "Successfully built pt-core-news-sm\n",
            "Installing collected packages: pt-core-news-sm\n",
            "  Found existing installation: pt-core-news-sm 3.0.0\n",
            "    Uninstalling pt-core-news-sm-3.0.0:\n",
            "      Successfully uninstalled pt-core-news-sm-3.0.0\n",
            "Successfully installed pt-core-news-sm-2.2.5\n",
            "\u001b[38;5;2m✔ Download and installation successful\u001b[0m\n",
            "You can now load the model via spacy.load('pt_core_news_sm')\n",
            "\u001b[38;5;2m✔ Linking successful\u001b[0m\n",
            "/usr/local/lib/python3.6/dist-packages/pt_core_news_sm -->\n",
            "/usr/local/lib/python3.6/dist-packages/spacy/data/pt\n",
            "You can now load the model via spacy.load('pt')\n"
          ],
          "name": "stdout"
        }
      ]
    },
    {
      "cell_type": "markdown",
      "metadata": {
        "id": "bJ2s3MS6EXBe"
      },
      "source": [
        "# Etapa 2: Marcação POS\n",
        "\n",
        "- POS (part-of-speech) atribui para as palavras partes da fala, como substantivos, adjetivos, verbos\n",
        "- Importante para a detecção de entidades no texto, pois primeiro é necessário saber o que o texto contém\n",
        "- Lista de tokens: https://spacy.io/api/annotation#pos-tagging\n",
        "- Português: https://www.sketchengine.eu/portuguese-freeling-part-of-speech-tagset/"
      ]
    },
    {
      "cell_type": "code",
      "metadata": {
        "id": "0T8hIclJNV1b",
        "colab": {
          "base_uri": "https://localhost:8080/"
        },
        "outputId": "bb0b4aee-836c-4d08-cd25-8096d0c97306"
      },
      "source": [
        "pln = spacy.load('pt')\n",
        "pln"
      ],
      "execution_count": 3,
      "outputs": [
        {
          "output_type": "execute_result",
          "data": {
            "text/plain": [
              "<spacy.lang.pt.Portuguese at 0x7f8a0cb8b7f0>"
            ]
          },
          "metadata": {
            "tags": []
          },
          "execution_count": 3
        }
      ]
    },
    {
      "cell_type": "code",
      "metadata": {
        "id": "4pZAEQVPNku8"
      },
      "source": [
        "documento = pln('Estou aprendendo processamento de linguagem natural, curso em Curitiba')"
      ],
      "execution_count": 4,
      "outputs": []
    },
    {
      "cell_type": "code",
      "metadata": {
        "id": "Fg7TeXodNz4e",
        "colab": {
          "base_uri": "https://localhost:8080/"
        },
        "outputId": "47e8c3d1-b1e1-4364-f9db-fbd398c340cd"
      },
      "source": [
        "for token in documento:\n",
        "  print(token.text, token.pos_)"
      ],
      "execution_count": 5,
      "outputs": [
        {
          "output_type": "stream",
          "text": [
            "Estou AUX\n",
            "aprendendo VERB\n",
            "processamento NOUN\n",
            "de ADP\n",
            "linguagem NOUN\n",
            "natural ADJ\n",
            ", PUNCT\n",
            "curso NOUN\n",
            "em ADP\n",
            "Curitiba PROPN\n"
          ],
          "name": "stdout"
        }
      ]
    },
    {
      "cell_type": "markdown",
      "metadata": {
        "id": "eGd1tq7mLv_M"
      },
      "source": [
        "## Legenda \n",
        "\n",
        "- lemma: raiz da palavra\n",
        "- pos: parte da fala\n",
        "- tag: informações morfológicas, como se o verbo está no passado\n",
        "- dep: dependência sintática\n",
        "- shape: formato (maiúsculo, minúsculo, dígitos)\n",
        "- alpha: se é alfabético\n",
        "- stop: se é stopword"
      ]
    },
    {
      "cell_type": "code",
      "metadata": {
        "id": "0sIR8by8Osd3",
        "colab": {
          "base_uri": "https://localhost:8080/",
          "height": 190
        },
        "outputId": "609cc5bc-65c0-4ff3-f570-dec0834b0ddf"
      },
      "source": [
        "for token in documento:\n",
        "  print(token.text, token.lemma_, token.pos_, token.tag_, token.dep_, \n",
        "        token.shape_, token.is_alpha, token.is_stop)"
      ],
      "execution_count": null,
      "outputs": [
        {
          "output_type": "stream",
          "text": [
            "Estou Estou AUX <aux>|V|PR|1S|IND|@FS-STA aux Xxxxx True True\n",
            "aprendendo aprender VERB <mv>|V|GER|@ICL-AUX< ROOT xxxx True False\n",
            "processamento processamento NOUN <np-idf>|N|M|S|@<ACC obj xxxx True False\n",
            "de de ADP PRP|@N< case xx True True\n",
            "linguagem linguagem NOUN <np-idf>|N|F|S|@P< nmod xxxx True False\n",
            "natural natural ADJ ADJ|F|S|@N< amod xxxx True False\n",
            ", , PUNCT PU|@PU punct , False False\n",
            "curso cursar NOUN <np-idf>|N|M|S|@N<PRED appos xxxx True False\n",
            "em em ADP PRP|@N< case xx True True\n",
            "Curitiba Curitiba PROPN PROP|M|S|@P< nmod Xxxxx True False\n"
          ],
          "name": "stdout"
        }
      ]
    },
    {
      "cell_type": "code",
      "metadata": {
        "id": "vHNRWL_KPabJ",
        "colab": {
          "base_uri": "https://localhost:8080/"
        },
        "outputId": "ee870c8e-5e91-49e3-ab85-71458a851efc"
      },
      "source": [
        "for token in documento:\n",
        "  if token.pos_ == 'PROPN':\n",
        "    print(token.text)"
      ],
      "execution_count": 6,
      "outputs": [
        {
          "output_type": "stream",
          "text": [
            "Curitiba\n"
          ],
          "name": "stdout"
        }
      ]
    },
    {
      "cell_type": "markdown",
      "metadata": {
        "id": "DctwAtI_NLym"
      },
      "source": [
        "# Etapa 3: Lematização e stemização\n",
        "\n",
        "- Lematização: \"Lema\" de uma palavra de acordo com seu significado no dicionário - palavra base (análise vocabular e morfológica)\n",
        "- Stemização: Extrair o radical das palavras"
      ]
    },
    {
      "cell_type": "code",
      "metadata": {
        "id": "NVZ0_xLUQGjb",
        "colab": {
          "base_uri": "https://localhost:8080/"
        },
        "outputId": "5c8262c9-e562-4d99-d277-a8548746bc3f"
      },
      "source": [
        "for token in documento:\n",
        "  print(token.text, token.lemma_)"
      ],
      "execution_count": 7,
      "outputs": [
        {
          "output_type": "stream",
          "text": [
            "Estou Estou\n",
            "aprendendo aprender\n",
            "processamento processamento\n",
            "de de\n",
            "linguagem linguagem\n",
            "natural natural\n",
            ", ,\n",
            "curso cursar\n",
            "em em\n",
            "Curitiba Curitiba\n"
          ],
          "name": "stdout"
        }
      ]
    },
    {
      "cell_type": "code",
      "metadata": {
        "id": "16bshyFfQSF2",
        "colab": {
          "base_uri": "https://localhost:8080/"
        },
        "outputId": "62b8ff02-e682-4503-f778-483cbb049f4a"
      },
      "source": [
        "doc = pln('encontrei encontraram encontrarão encontrariam cursando curso cursei')\n",
        "[token.lemma_ for token in doc]"
      ],
      "execution_count": 8,
      "outputs": [
        {
          "output_type": "execute_result",
          "data": {
            "text/plain": [
              "['encontrar',\n",
              " 'encontrar',\n",
              " 'encontrar',\n",
              " 'encontrar',\n",
              " 'cursar',\n",
              " 'cursar',\n",
              " 'cursar']"
            ]
          },
          "metadata": {
            "tags": []
          },
          "execution_count": 8
        }
      ]
    },
    {
      "cell_type": "markdown",
      "metadata": {
        "id": "zVz8tGTiZN6C"
      },
      "source": [
        "## Comparação stemização (NLTK) x lematização (spaCy)"
      ]
    },
    {
      "cell_type": "code",
      "metadata": {
        "id": "Ww8qgIxXQt7c",
        "colab": {
          "base_uri": "https://localhost:8080/"
        },
        "outputId": "60617c94-2a51-47b0-9e5f-b4cc69e3eb12"
      },
      "source": [
        "#!pip install nltk --upgrade"
      ],
      "execution_count": 9,
      "outputs": [
        {
          "output_type": "stream",
          "text": [
            "Collecting nltk\n",
            "\u001b[?25l  Downloading https://files.pythonhosted.org/packages/92/75/ce35194d8e3022203cca0d2f896dbb88689f9b3fce8e9f9cff942913519d/nltk-3.5.zip (1.4MB)\n",
            "\r\u001b[K     |▎                               | 10kB 16.3MB/s eta 0:00:01\r\u001b[K     |▌                               | 20kB 21.1MB/s eta 0:00:01\r\u001b[K     |▊                               | 30kB 24.8MB/s eta 0:00:01\r\u001b[K     |█                               | 40kB 19.5MB/s eta 0:00:01\r\u001b[K     |█▏                              | 51kB 16.1MB/s eta 0:00:01\r\u001b[K     |█▍                              | 61kB 17.7MB/s eta 0:00:01\r\u001b[K     |█▋                              | 71kB 13.8MB/s eta 0:00:01\r\u001b[K     |█▉                              | 81kB 13.4MB/s eta 0:00:01\r\u001b[K     |██                              | 92kB 13.1MB/s eta 0:00:01\r\u001b[K     |██▎                             | 102kB 12.6MB/s eta 0:00:01\r\u001b[K     |██▌                             | 112kB 12.6MB/s eta 0:00:01\r\u001b[K     |██▊                             | 122kB 12.6MB/s eta 0:00:01\r\u001b[K     |███                             | 133kB 12.6MB/s eta 0:00:01\r\u001b[K     |███▏                            | 143kB 12.6MB/s eta 0:00:01\r\u001b[K     |███▍                            | 153kB 12.6MB/s eta 0:00:01\r\u001b[K     |███▋                            | 163kB 12.6MB/s eta 0:00:01\r\u001b[K     |███▉                            | 174kB 12.6MB/s eta 0:00:01\r\u001b[K     |████▏                           | 184kB 12.6MB/s eta 0:00:01\r\u001b[K     |████▍                           | 194kB 12.6MB/s eta 0:00:01\r\u001b[K     |████▋                           | 204kB 12.6MB/s eta 0:00:01\r\u001b[K     |████▉                           | 215kB 12.6MB/s eta 0:00:01\r\u001b[K     |█████                           | 225kB 12.6MB/s eta 0:00:01\r\u001b[K     |█████▎                          | 235kB 12.6MB/s eta 0:00:01\r\u001b[K     |█████▌                          | 245kB 12.6MB/s eta 0:00:01\r\u001b[K     |█████▊                          | 256kB 12.6MB/s eta 0:00:01\r\u001b[K     |██████                          | 266kB 12.6MB/s eta 0:00:01\r\u001b[K     |██████▏                         | 276kB 12.6MB/s eta 0:00:01\r\u001b[K     |██████▍                         | 286kB 12.6MB/s eta 0:00:01\r\u001b[K     |██████▋                         | 296kB 12.6MB/s eta 0:00:01\r\u001b[K     |██████▉                         | 307kB 12.6MB/s eta 0:00:01\r\u001b[K     |███████                         | 317kB 12.6MB/s eta 0:00:01\r\u001b[K     |███████▎                        | 327kB 12.6MB/s eta 0:00:01\r\u001b[K     |███████▌                        | 337kB 12.6MB/s eta 0:00:01\r\u001b[K     |███████▊                        | 348kB 12.6MB/s eta 0:00:01\r\u001b[K     |████████                        | 358kB 12.6MB/s eta 0:00:01\r\u001b[K     |████████▎                       | 368kB 12.6MB/s eta 0:00:01\r\u001b[K     |████████▌                       | 378kB 12.6MB/s eta 0:00:01\r\u001b[K     |████████▊                       | 389kB 12.6MB/s eta 0:00:01\r\u001b[K     |█████████                       | 399kB 12.6MB/s eta 0:00:01\r\u001b[K     |█████████▏                      | 409kB 12.6MB/s eta 0:00:01\r\u001b[K     |█████████▍                      | 419kB 12.6MB/s eta 0:00:01\r\u001b[K     |█████████▋                      | 430kB 12.6MB/s eta 0:00:01\r\u001b[K     |█████████▉                      | 440kB 12.6MB/s eta 0:00:01\r\u001b[K     |██████████                      | 450kB 12.6MB/s eta 0:00:01\r\u001b[K     |██████████▎                     | 460kB 12.6MB/s eta 0:00:01\r\u001b[K     |██████████▌                     | 471kB 12.6MB/s eta 0:00:01\r\u001b[K     |██████████▊                     | 481kB 12.6MB/s eta 0:00:01\r\u001b[K     |███████████                     | 491kB 12.6MB/s eta 0:00:01\r\u001b[K     |███████████▏                    | 501kB 12.6MB/s eta 0:00:01\r\u001b[K     |███████████▍                    | 512kB 12.6MB/s eta 0:00:01\r\u001b[K     |███████████▋                    | 522kB 12.6MB/s eta 0:00:01\r\u001b[K     |███████████▉                    | 532kB 12.6MB/s eta 0:00:01\r\u001b[K     |████████████▏                   | 542kB 12.6MB/s eta 0:00:01\r\u001b[K     |████████████▍                   | 552kB 12.6MB/s eta 0:00:01\r\u001b[K     |████████████▋                   | 563kB 12.6MB/s eta 0:00:01\r\u001b[K     |████████████▉                   | 573kB 12.6MB/s eta 0:00:01\r\u001b[K     |█████████████                   | 583kB 12.6MB/s eta 0:00:01\r\u001b[K     |█████████████▎                  | 593kB 12.6MB/s eta 0:00:01\r\u001b[K     |█████████████▌                  | 604kB 12.6MB/s eta 0:00:01\r\u001b[K     |█████████████▊                  | 614kB 12.6MB/s eta 0:00:01\r\u001b[K     |██████████████                  | 624kB 12.6MB/s eta 0:00:01\r\u001b[K     |██████████████▏                 | 634kB 12.6MB/s eta 0:00:01\r\u001b[K     |██████████████▍                 | 645kB 12.6MB/s eta 0:00:01\r\u001b[K     |██████████████▋                 | 655kB 12.6MB/s eta 0:00:01\r\u001b[K     |██████████████▉                 | 665kB 12.6MB/s eta 0:00:01\r\u001b[K     |███████████████                 | 675kB 12.6MB/s eta 0:00:01\r\u001b[K     |███████████████▎                | 686kB 12.6MB/s eta 0:00:01\r\u001b[K     |███████████████▌                | 696kB 12.6MB/s eta 0:00:01\r\u001b[K     |███████████████▊                | 706kB 12.6MB/s eta 0:00:01\r\u001b[K     |████████████████                | 716kB 12.6MB/s eta 0:00:01\r\u001b[K     |████████████████▎               | 727kB 12.6MB/s eta 0:00:01\r\u001b[K     |████████████████▌               | 737kB 12.6MB/s eta 0:00:01\r\u001b[K     |████████████████▊               | 747kB 12.6MB/s eta 0:00:01\r\u001b[K     |█████████████████               | 757kB 12.6MB/s eta 0:00:01\r\u001b[K     |█████████████████▏              | 768kB 12.6MB/s eta 0:00:01\r\u001b[K     |█████████████████▍              | 778kB 12.6MB/s eta 0:00:01\r\u001b[K     |█████████████████▋              | 788kB 12.6MB/s eta 0:00:01\r\u001b[K     |█████████████████▉              | 798kB 12.6MB/s eta 0:00:01\r\u001b[K     |██████████████████              | 808kB 12.6MB/s eta 0:00:01\r\u001b[K     |██████████████████▎             | 819kB 12.6MB/s eta 0:00:01\r\u001b[K     |██████████████████▌             | 829kB 12.6MB/s eta 0:00:01\r\u001b[K     |██████████████████▊             | 839kB 12.6MB/s eta 0:00:01\r\u001b[K     |███████████████████             | 849kB 12.6MB/s eta 0:00:01\r\u001b[K     |███████████████████▏            | 860kB 12.6MB/s eta 0:00:01\r\u001b[K     |███████████████████▍            | 870kB 12.6MB/s eta 0:00:01\r\u001b[K     |███████████████████▋            | 880kB 12.6MB/s eta 0:00:01\r\u001b[K     |███████████████████▉            | 890kB 12.6MB/s eta 0:00:01\r\u001b[K     |████████████████████▏           | 901kB 12.6MB/s eta 0:00:01\r\u001b[K     |████████████████████▍           | 911kB 12.6MB/s eta 0:00:01\r\u001b[K     |████████████████████▋           | 921kB 12.6MB/s eta 0:00:01\r\u001b[K     |████████████████████▉           | 931kB 12.6MB/s eta 0:00:01\r\u001b[K     |█████████████████████           | 942kB 12.6MB/s eta 0:00:01\r\u001b[K     |█████████████████████▎          | 952kB 12.6MB/s eta 0:00:01\r\u001b[K     |█████████████████████▌          | 962kB 12.6MB/s eta 0:00:01\r\u001b[K     |█████████████████████▊          | 972kB 12.6MB/s eta 0:00:01\r\u001b[K     |██████████████████████          | 983kB 12.6MB/s eta 0:00:01\r\u001b[K     |██████████████████████▏         | 993kB 12.6MB/s eta 0:00:01\r\u001b[K     |██████████████████████▍         | 1.0MB 12.6MB/s eta 0:00:01\r\u001b[K     |██████████████████████▋         | 1.0MB 12.6MB/s eta 0:00:01\r\u001b[K     |██████████████████████▉         | 1.0MB 12.6MB/s eta 0:00:01\r\u001b[K     |███████████████████████         | 1.0MB 12.6MB/s eta 0:00:01\r\u001b[K     |███████████████████████▎        | 1.0MB 12.6MB/s eta 0:00:01\r\u001b[K     |███████████████████████▌        | 1.1MB 12.6MB/s eta 0:00:01\r\u001b[K     |███████████████████████▊        | 1.1MB 12.6MB/s eta 0:00:01\r\u001b[K     |████████████████████████        | 1.1MB 12.6MB/s eta 0:00:01\r\u001b[K     |████████████████████████▎       | 1.1MB 12.6MB/s eta 0:00:01\r\u001b[K     |████████████████████████▌       | 1.1MB 12.6MB/s eta 0:00:01\r\u001b[K     |████████████████████████▊       | 1.1MB 12.6MB/s eta 0:00:01\r\u001b[K     |█████████████████████████       | 1.1MB 12.6MB/s eta 0:00:01\r\u001b[K     |█████████████████████████▏      | 1.1MB 12.6MB/s eta 0:00:01\r\u001b[K     |█████████████████████████▍      | 1.1MB 12.6MB/s eta 0:00:01\r\u001b[K     |█████████████████████████▋      | 1.1MB 12.6MB/s eta 0:00:01\r\u001b[K     |█████████████████████████▉      | 1.2MB 12.6MB/s eta 0:00:01\r\u001b[K     |██████████████████████████      | 1.2MB 12.6MB/s eta 0:00:01\r\u001b[K     |██████████████████████████▎     | 1.2MB 12.6MB/s eta 0:00:01\r\u001b[K     |██████████████████████████▌     | 1.2MB 12.6MB/s eta 0:00:01\r\u001b[K     |██████████████████████████▊     | 1.2MB 12.6MB/s eta 0:00:01\r\u001b[K     |███████████████████████████     | 1.2MB 12.6MB/s eta 0:00:01\r\u001b[K     |███████████████████████████▏    | 1.2MB 12.6MB/s eta 0:00:01\r\u001b[K     |███████████████████████████▍    | 1.2MB 12.6MB/s eta 0:00:01\r\u001b[K     |███████████████████████████▋    | 1.2MB 12.6MB/s eta 0:00:01\r\u001b[K     |███████████████████████████▉    | 1.2MB 12.6MB/s eta 0:00:01\r\u001b[K     |████████████████████████████▏   | 1.3MB 12.6MB/s eta 0:00:01\r\u001b[K     |████████████████████████████▍   | 1.3MB 12.6MB/s eta 0:00:01\r\u001b[K     |████████████████████████████▋   | 1.3MB 12.6MB/s eta 0:00:01\r\u001b[K     |████████████████████████████▉   | 1.3MB 12.6MB/s eta 0:00:01\r\u001b[K     |█████████████████████████████   | 1.3MB 12.6MB/s eta 0:00:01\r\u001b[K     |█████████████████████████████▎  | 1.3MB 12.6MB/s eta 0:00:01\r\u001b[K     |█████████████████████████████▌  | 1.3MB 12.6MB/s eta 0:00:01\r\u001b[K     |█████████████████████████████▊  | 1.3MB 12.6MB/s eta 0:00:01\r\u001b[K     |██████████████████████████████  | 1.3MB 12.6MB/s eta 0:00:01\r\u001b[K     |██████████████████████████████▏ | 1.4MB 12.6MB/s eta 0:00:01\r\u001b[K     |██████████████████████████████▍ | 1.4MB 12.6MB/s eta 0:00:01\r\u001b[K     |██████████████████████████████▋ | 1.4MB 12.6MB/s eta 0:00:01\r\u001b[K     |██████████████████████████████▉ | 1.4MB 12.6MB/s eta 0:00:01\r\u001b[K     |███████████████████████████████ | 1.4MB 12.6MB/s eta 0:00:01\r\u001b[K     |███████████████████████████████▎| 1.4MB 12.6MB/s eta 0:00:01\r\u001b[K     |███████████████████████████████▌| 1.4MB 12.6MB/s eta 0:00:01\r\u001b[K     |███████████████████████████████▊| 1.4MB 12.6MB/s eta 0:00:01\r\u001b[K     |████████████████████████████████| 1.4MB 12.6MB/s \n",
            "\u001b[?25hRequirement already satisfied, skipping upgrade: click in /usr/local/lib/python3.6/dist-packages (from nltk) (7.1.2)\n",
            "Requirement already satisfied, skipping upgrade: joblib in /usr/local/lib/python3.6/dist-packages (from nltk) (1.0.0)\n",
            "Requirement already satisfied, skipping upgrade: regex in /usr/local/lib/python3.6/dist-packages (from nltk) (2019.12.20)\n",
            "Requirement already satisfied, skipping upgrade: tqdm in /usr/local/lib/python3.6/dist-packages (from nltk) (4.41.1)\n",
            "Building wheels for collected packages: nltk\n",
            "  Building wheel for nltk (setup.py) ... \u001b[?25l\u001b[?25hdone\n",
            "  Created wheel for nltk: filename=nltk-3.5-cp36-none-any.whl size=1434675 sha256=7441640441d910c39296b23367161e4dbb7126f5a4107c6cfc61f97d2ce13728\n",
            "  Stored in directory: /root/.cache/pip/wheels/ae/8c/3f/b1fe0ba04555b08b57ab52ab7f86023639a526d8bc8d384306\n",
            "Successfully built nltk\n",
            "Installing collected packages: nltk\n",
            "  Found existing installation: nltk 3.2.5\n",
            "    Uninstalling nltk-3.2.5:\n",
            "      Successfully uninstalled nltk-3.2.5\n",
            "Successfully installed nltk-3.5\n"
          ],
          "name": "stdout"
        }
      ]
    },
    {
      "cell_type": "code",
      "metadata": {
        "id": "A8G04U93QpbA",
        "colab": {
          "base_uri": "https://localhost:8080/"
        },
        "outputId": "0eda0fc3-228c-494f-ec4a-7ce42e390529"
      },
      "source": [
        "import nltk\n",
        "nltk.download('rslp')"
      ],
      "execution_count": 11,
      "outputs": [
        {
          "output_type": "stream",
          "text": [
            "[nltk_data] Downloading package rslp to /root/nltk_data...\n",
            "[nltk_data]   Package rslp is already up-to-date!\n"
          ],
          "name": "stderr"
        },
        {
          "output_type": "execute_result",
          "data": {
            "text/plain": [
              "True"
            ]
          },
          "metadata": {
            "tags": []
          },
          "execution_count": 11
        }
      ]
    },
    {
      "cell_type": "code",
      "metadata": {
        "id": "Levz2Ci8Q5hm",
        "colab": {
          "base_uri": "https://localhost:8080/",
          "height": 35
        },
        "outputId": "f011594d-5abb-4d89-bc6a-69ea43fd05a3"
      },
      "source": [
        "stemmer = nltk.stem.RSLPStemmer()\n",
        "stemmer.stem('aprender')"
      ],
      "execution_count": 12,
      "outputs": [
        {
          "output_type": "execute_result",
          "data": {
            "application/vnd.google.colaboratory.intrinsic+json": {
              "type": "string"
            },
            "text/plain": [
              "'aprend'"
            ]
          },
          "metadata": {
            "tags": []
          },
          "execution_count": 12
        }
      ]
    },
    {
      "cell_type": "code",
      "metadata": {
        "id": "DWeL9UDURmEY",
        "colab": {
          "base_uri": "https://localhost:8080/"
        },
        "outputId": "97109993-c058-431e-96c0-cce640985c02"
      },
      "source": [
        "for token in documento:\n",
        "  print(token.text, token.lemma_, stemmer.stem(token.text))"
      ],
      "execution_count": 14,
      "outputs": [
        {
          "output_type": "stream",
          "text": [
            "Estou Estou est\n",
            "aprendendo aprender aprend\n",
            "processamento processamento process\n",
            "de de de\n",
            "linguagem linguagem lingu\n",
            "natural natural natur\n",
            ", , ,\n",
            "curso cursar curs\n",
            "em em em\n",
            "Curitiba Curitiba curitib\n"
          ],
          "name": "stdout"
        }
      ]
    },
    {
      "cell_type": "markdown",
      "metadata": {
        "id": "PtacHcwVZ4PH"
      },
      "source": [
        "# Etapa 4: Reconhecimento de entidades nomeadas\n",
        "\n",
        "- NER (Named-Entity Recognition)\n",
        "- Encontrar e classificar entidades no texto, dependendo da base de dados que foi utilizada para o treinamento (pessoa, localização, empresa, numéricos)\n",
        "- Usado em chatbots para saber o assunto falado\n",
        "- Siglas: https://spacy.io/api/annotation#named-entities"
      ]
    },
    {
      "cell_type": "code",
      "metadata": {
        "id": "mA_awKp-aq9j"
      },
      "source": [
        "texto = 'A IBM é uma empresa dos Estados Unidos voltada para a área de informática. Sua sede no Brasil fica em São Paulo e a receita em 2018 foi de aproximadamente 320 bilhões de reais'"
      ],
      "execution_count": 15,
      "outputs": []
    },
    {
      "cell_type": "code",
      "metadata": {
        "id": "ldfPLqpVTlbq"
      },
      "source": [
        "documento = pln(texto)"
      ],
      "execution_count": 16,
      "outputs": []
    },
    {
      "cell_type": "code",
      "metadata": {
        "id": "-ir1stmgTsbW",
        "colab": {
          "base_uri": "https://localhost:8080/"
        },
        "outputId": "d96f4fe8-5abc-4842-ff77-754869126d72"
      },
      "source": [
        "for entidade in documento.ents:\n",
        "  print(entidade.text, entidade.label_)"
      ],
      "execution_count": 17,
      "outputs": [
        {
          "output_type": "stream",
          "text": [
            "IBM ORG\n",
            "Estados Unidos LOC\n",
            "Brasil LOC\n",
            "São Paulo LOC\n"
          ],
          "name": "stdout"
        }
      ]
    },
    {
      "cell_type": "code",
      "metadata": {
        "id": "FfXi2DsYUIU0",
        "colab": {
          "base_uri": "https://localhost:8080/",
          "height": 85
        },
        "outputId": "c3ecfc4c-51d9-4573-e0a4-5751fc8d6566"
      },
      "source": [
        "from spacy import displacy\n",
        "displacy.render(documento, style = 'ent', jupyter = True)"
      ],
      "execution_count": 18,
      "outputs": [
        {
          "output_type": "display_data",
          "data": {
            "text/html": [
              "<div class=\"entities\" style=\"line-height: 2.5; direction: ltr\">A \n",
              "<mark class=\"entity\" style=\"background: #7aecec; padding: 0.45em 0.6em; margin: 0 0.25em; line-height: 1; border-radius: 0.35em;\">\n",
              "    IBM\n",
              "    <span style=\"font-size: 0.8em; font-weight: bold; line-height: 1; border-radius: 0.35em; text-transform: uppercase; vertical-align: middle; margin-left: 0.5rem\">ORG</span>\n",
              "</mark>\n",
              " é uma empresa dos \n",
              "<mark class=\"entity\" style=\"background: #ff9561; padding: 0.45em 0.6em; margin: 0 0.25em; line-height: 1; border-radius: 0.35em;\">\n",
              "    Estados Unidos\n",
              "    <span style=\"font-size: 0.8em; font-weight: bold; line-height: 1; border-radius: 0.35em; text-transform: uppercase; vertical-align: middle; margin-left: 0.5rem\">LOC</span>\n",
              "</mark>\n",
              " voltada para a área de informática. Sua sede no \n",
              "<mark class=\"entity\" style=\"background: #ff9561; padding: 0.45em 0.6em; margin: 0 0.25em; line-height: 1; border-radius: 0.35em;\">\n",
              "    Brasil\n",
              "    <span style=\"font-size: 0.8em; font-weight: bold; line-height: 1; border-radius: 0.35em; text-transform: uppercase; vertical-align: middle; margin-left: 0.5rem\">LOC</span>\n",
              "</mark>\n",
              " fica em \n",
              "<mark class=\"entity\" style=\"background: #ff9561; padding: 0.45em 0.6em; margin: 0 0.25em; line-height: 1; border-radius: 0.35em;\">\n",
              "    São Paulo\n",
              "    <span style=\"font-size: 0.8em; font-weight: bold; line-height: 1; border-radius: 0.35em; text-transform: uppercase; vertical-align: middle; margin-left: 0.5rem\">LOC</span>\n",
              "</mark>\n",
              " e a receita em 2018 foi de aproximadamente 320 bilhões de reais</div>"
            ],
            "text/plain": [
              "<IPython.core.display.HTML object>"
            ]
          },
          "metadata": {
            "tags": []
          }
        }
      ]
    },
    {
      "cell_type": "code",
      "metadata": {
        "id": "MDPlvRF2cF7Q"
      },
      "source": [
        "texto = 'Bill Gates nasceu em Seattle em 28/10/1955 e foi o criador da Microsoft'"
      ],
      "execution_count": 19,
      "outputs": []
    },
    {
      "cell_type": "code",
      "metadata": {
        "id": "W00f6-70UYkI",
        "colab": {
          "base_uri": "https://localhost:8080/"
        },
        "outputId": "7e75527e-c6ec-4af5-943e-aa95c9c1efd0"
      },
      "source": [
        "documento = pln(texto)\n",
        "for entidade in documento.ents:\n",
        "  print(entidade.text, entidade.label_)"
      ],
      "execution_count": 20,
      "outputs": [
        {
          "output_type": "stream",
          "text": [
            "Bill Gates PER\n",
            "Seattle LOC\n",
            "Microsoft ORG\n"
          ],
          "name": "stdout"
        }
      ]
    },
    {
      "cell_type": "code",
      "metadata": {
        "id": "vQOX_rbNUlCh",
        "colab": {
          "base_uri": "https://localhost:8080/",
          "height": 51
        },
        "outputId": "9f17a19f-a671-4e36-e5c6-ea3cba415157"
      },
      "source": [
        "displacy.render(documento, style = 'ent', jupyter = True)"
      ],
      "execution_count": 21,
      "outputs": [
        {
          "output_type": "display_data",
          "data": {
            "text/html": [
              "<div class=\"entities\" style=\"line-height: 2.5; direction: ltr\">\n",
              "<mark class=\"entity\" style=\"background: #ddd; padding: 0.45em 0.6em; margin: 0 0.25em; line-height: 1; border-radius: 0.35em;\">\n",
              "    Bill Gates\n",
              "    <span style=\"font-size: 0.8em; font-weight: bold; line-height: 1; border-radius: 0.35em; text-transform: uppercase; vertical-align: middle; margin-left: 0.5rem\">PER</span>\n",
              "</mark>\n",
              " nasceu em \n",
              "<mark class=\"entity\" style=\"background: #ff9561; padding: 0.45em 0.6em; margin: 0 0.25em; line-height: 1; border-radius: 0.35em;\">\n",
              "    Seattle\n",
              "    <span style=\"font-size: 0.8em; font-weight: bold; line-height: 1; border-radius: 0.35em; text-transform: uppercase; vertical-align: middle; margin-left: 0.5rem\">LOC</span>\n",
              "</mark>\n",
              " em 28/10/1955 e foi o criador da \n",
              "<mark class=\"entity\" style=\"background: #7aecec; padding: 0.45em 0.6em; margin: 0 0.25em; line-height: 1; border-radius: 0.35em;\">\n",
              "    Microsoft\n",
              "    <span style=\"font-size: 0.8em; font-weight: bold; line-height: 1; border-radius: 0.35em; text-transform: uppercase; vertical-align: middle; margin-left: 0.5rem\">ORG</span>\n",
              "</mark>\n",
              "</div>"
            ],
            "text/plain": [
              "<IPython.core.display.HTML object>"
            ]
          },
          "metadata": {
            "tags": []
          }
        }
      ]
    },
    {
      "cell_type": "code",
      "metadata": {
        "id": "86ecZ6oDUsQv",
        "colab": {
          "base_uri": "https://localhost:8080/"
        },
        "outputId": "4a19bbfc-f9e6-400d-d616-5d08221ab6be"
      },
      "source": [
        "for entidade in documento.ents:\n",
        "  if entidade.label_ == 'PER':\n",
        "    print(entidade.text)"
      ],
      "execution_count": 22,
      "outputs": [
        {
          "output_type": "stream",
          "text": [
            "Bill Gates\n"
          ],
          "name": "stdout"
        }
      ]
    },
    {
      "cell_type": "markdown",
      "metadata": {
        "id": "Gt4Rg6ekdsmF"
      },
      "source": [
        "# Etapa 5: Stopwords"
      ]
    },
    {
      "cell_type": "markdown",
      "metadata": {
        "id": "Stg3FUaoeW4I"
      },
      "source": [
        "- Palavras que aparecem com muita frequência e que não apresentam muito significado (e, a, de, da, etc)"
      ]
    },
    {
      "cell_type": "code",
      "metadata": {
        "id": "MQ2Mxo4vVZ-w"
      },
      "source": [
        "from spacy.lang.pt.stop_words import STOP_WORDS"
      ],
      "execution_count": 23,
      "outputs": []
    },
    {
      "cell_type": "code",
      "metadata": {
        "id": "_FZdoyg2VgdF",
        "colab": {
          "base_uri": "https://localhost:8080/"
        },
        "outputId": "c149eb09-f863-4179-ea4e-11c48da04628"
      },
      "source": [
        "print(STOP_WORDS)"
      ],
      "execution_count": 24,
      "outputs": [
        {
          "output_type": "stream",
          "text": [
            "{'bastante', 'meio', 'ver', 'das', 'dentro', 'aqui', 'ambas', 'mil', 'geral', 'esta', 'lhe', 'sobre', 'número', 'vêm', 'quero', 'tentei', 'certamente', 'temos', 'des', 'ir', 'deve', 'vai', 'vais', 'dizer', 'mas', 'cá', 'próprio', 'quarta', 'somente', 'estar', 'segunda', 'catorze', 'estive', 'mal', 'outras', 'algo', 'próximo', 'nenhuma', 'sempre', 'vem', 'suas', 'nove', 'novos', 'tivestes', 'questão', 'duas', 'estas', 'poderá', 'pôde', 'estado', 'não', 'uns', 'obrigado', 'ela', 'foi', 'da', 'embora', 'essa', 'aos', 'tentaram', 'irá', 'posição', 'veja', 'sabe', 'boa', 'for', 'vindo', 'vinte', 'tão', 'quais', 'ou', 'terceira', 'maior', 'mesmo', 'aquela', 'vão', 'certeza', 'eles', 'até', 'muitos', 'desde', 'fomos', 'à', 'lá', 'quanto', 'possivelmente', 'nessa', 'nova', 'doze', 'assim', 'conselho', 'primeiro', 'devem', 'nunca', 'você', 'baixo', 'então', 'conhecido', 'isto', 'usar', 'sei', 'povo', 'onze', 'ligado', 'tentar', 'daquela', 'foste', 'tanta', 'local', 'tal', 'terceiro', 'ora', 'ele', 'primeira', 'como', 'sexto', 'todos', 'porquê', 'sétimo', 'estava', 'qual', 'estás', 'último', 'os', 'bem', 'vens', 'pelos', 'pela', 'estivestes', 'teus', 'pode', 'depois', 'fazia', 'ali', 'têm', 'cima', 'quem', 'algumas', 'apenas', 'entre', 'de', 'pois', 'tu', 'fazem', 'possível', 'cujo', 'está', 'sou', 'teve', 'muito', 'diz', 'dá', 'fazer', 'foram', 'tenho', 'dois', 'bom', 'por', 'porque', 'se', 'meses', 'nesta', 'após', 'próxima', 'as', 'custa', 'para', 'porém', 'saber', 'exemplo', 'nesse', 'grande', 'posso', 'comprido', 'grupo', 'inclusive', 'disso', 'tudo', 'zero', 'com', 'perto', 'quer', 'estão', 'vocês', 'vezes', 'portanto', 'também', 'quando', 'coisa', 'tiveste', 'ao', 'quieta', 'nós', 'mais', 'inicio', 'tens', 'outros', 'eventual', 'quatro', 'dez', 'era', 'sistema', 'forma', 'faço', 'seis', 'final', 'vez', 'nem', 'daquele', 'fui', 'alguns', 'tivemos', 'fazeis', 'sois', 'dão', 'aí', 'cedo', 'desse', 'oitava', 'faz', 'aquilo', 'tanto', 'ainda', 'fora', 'meu', 'apoio', 'enquanto', 'acerca', 'parece', 'nos', 'comprida', 'deste', 'fez', 'adeus', 'que', 'tua', 'elas', 'quinto', 'desta', 'naquela', 'em', 'outra', 'três', 'dezasseis', 'deverá', 'minha', 'ponto', 'lugar', 'me', 'dar', 'breve', 'dessa', 'teu', 'neste', 'tipo', 'direita', 'num', 'longe', 'apontar', 'numa', 'tais', 'falta', 'dizem', 'nas', 'pegar', 'um', 'às', 'fazemos', 'logo', 'quinta', 'já', 'este', 'cinco', 'vosso', 'mês', 'novas', 'sexta', 'põe', 'usa', 'estou', 'partir', 'esses', 'somos', 'podem', 'tendes', 'ter', 'todo', 'vossas', 'nossos', 'sob', 'sete', 'fostes', 'nosso', 'sua', 'tempo', 'tiveram', 'aquelas', 'tente', 'umas', 'aqueles', 'através', 'cento', 'aquele', 'corrente', 'debaixo', 'essas', 'apoia', 'agora', 'põem', 'atrás', 'pouca', 'porquanto', 'fazes', 'tive', 'estiveste', 'meus', 'seria', 'é', 'além', 'dezanove', 'seu', 'contra', 'sem', 'toda', 'favor', 'vossos', 'onde', 'pelo', 'na', 'vossa', 'qualquer', 'momento', 'poder', 'pontos', 'obrigada', 'puderam', 'vós', 'vinda', 'são', 'nossa', 'seus', 'parte', 'quê', 'grandes', 'diante', 'querem', 'ademais', 'minhas', 'quinze', 'cada', 'oito', 'novo', 'conhecida', 'lado', 'esse', 'segundo', 'valor', 'tem', 'nuns', 'menos', 'menor', 'te', 'naquele', 'quarto', 'és', 'caminho', 'contudo', 'dezoito', 'estes', 'esteve', 'máximo', 'sim', 'ambos', 'cuja', 'só', 'maioria', 'sétima', 'relação', 'uma', 'estiveram', 'estará', 'nível', 'ontem', 'dos', 'isso', 'treze', 'tuas', 'nossas', 'todas', 'maiorias', 'fim', 'estivemos', 'antes', 'oitavo', 'do', 'fará', 'nada', 'no', 'ser', 'podia', 'quieto', 'pelas', 'área', 'números', 'talvez', 'dezassete', 'vários', 'tarde', 'pouco', 'vos', 'eu', 'demais', 'iniciar'}\n"
          ],
          "name": "stdout"
        }
      ]
    },
    {
      "cell_type": "code",
      "metadata": {
        "id": "ebS0ad1CVpD8",
        "colab": {
          "base_uri": "https://localhost:8080/"
        },
        "outputId": "4d9b4b96-d2aa-4086-e205-8e07a986c1d9"
      },
      "source": [
        "len(STOP_WORDS)"
      ],
      "execution_count": 25,
      "outputs": [
        {
          "output_type": "execute_result",
          "data": {
            "text/plain": [
              "413"
            ]
          },
          "metadata": {
            "tags": []
          },
          "execution_count": 25
        }
      ]
    },
    {
      "cell_type": "code",
      "metadata": {
        "id": "_k3mNHEBVtWr",
        "colab": {
          "base_uri": "https://localhost:8080/"
        },
        "outputId": "fdebcbf5-8faa-452a-d284-b9b2b622a7a8"
      },
      "source": [
        "pln.vocab['ir'].is_stop"
      ],
      "execution_count": 28,
      "outputs": [
        {
          "output_type": "execute_result",
          "data": {
            "text/plain": [
              "True"
            ]
          },
          "metadata": {
            "tags": []
          },
          "execution_count": 28
        }
      ]
    },
    {
      "cell_type": "code",
      "metadata": {
        "id": "JQmM-k23V1Mk",
        "colab": {
          "base_uri": "https://localhost:8080/"
        },
        "outputId": "94a6770d-553d-4c46-fb31-86e87d1c98a8"
      },
      "source": [
        "pln.vocab['caminhar'].is_stop"
      ],
      "execution_count": 29,
      "outputs": [
        {
          "output_type": "execute_result",
          "data": {
            "text/plain": [
              "False"
            ]
          },
          "metadata": {
            "tags": []
          },
          "execution_count": 29
        }
      ]
    },
    {
      "cell_type": "code",
      "metadata": {
        "id": "5H4eI813V8h7"
      },
      "source": [
        "documento = pln('Estou aprendendo processamento de linguagem natural, curso em Curitiba')"
      ],
      "execution_count": 30,
      "outputs": []
    },
    {
      "cell_type": "code",
      "metadata": {
        "id": "jVtMxX__WE9y",
        "colab": {
          "base_uri": "https://localhost:8080/"
        },
        "outputId": "f7445060-7350-4a9a-c309-02555394977e"
      },
      "source": [
        "for token in documento:\n",
        "  if not pln.vocab[token.text].is_stop:\n",
        "    print(token.text)"
      ],
      "execution_count": 31,
      "outputs": [
        {
          "output_type": "stream",
          "text": [
            "aprendendo\n",
            "processamento\n",
            "linguagem\n",
            "natural\n",
            ",\n",
            "curso\n",
            "Curitiba\n"
          ],
          "name": "stdout"
        }
      ]
    },
    {
      "cell_type": "markdown",
      "metadata": {
        "id": "Xi7gpbH1fwvM"
      },
      "source": [
        "# Etapa 6: Parsing de dependências\n",
        "\n",
        "- Relação pai-filho entre as palavras"
      ]
    },
    {
      "cell_type": "markdown",
      "metadata": {
        "id": "BVzGp1zLohyU"
      },
      "source": [
        "## Exemplo 1"
      ]
    },
    {
      "cell_type": "code",
      "metadata": {
        "id": "JDYw7Hj9dMgG"
      },
      "source": [
        "documento = pln('reserve uma passagem saindo de Guarulhos e chegando em Curitiba')"
      ],
      "execution_count": null,
      "outputs": []
    },
    {
      "cell_type": "code",
      "metadata": {
        "id": "Vh2IjFfldY5T",
        "colab": {
          "base_uri": "https://localhost:8080/",
          "height": 35
        },
        "outputId": "0ff4c381-c8d4-41b9-f698-2422d6444bc0"
      },
      "source": [
        "origem = documento[5]\n",
        "destino = documento[9]\n",
        "origem, destino"
      ],
      "execution_count": null,
      "outputs": [
        {
          "output_type": "execute_result",
          "data": {
            "text/plain": [
              "(Guarulhos, Curitiba)"
            ]
          },
          "metadata": {
            "tags": []
          },
          "execution_count": 39
        }
      ]
    },
    {
      "cell_type": "code",
      "metadata": {
        "id": "DZa2XP8wdmej",
        "colab": {
          "base_uri": "https://localhost:8080/",
          "height": 35
        },
        "outputId": "79edb072-3188-4afa-ef47-18718b17a733"
      },
      "source": [
        "list(origem.ancestors)"
      ],
      "execution_count": null,
      "outputs": [
        {
          "output_type": "execute_result",
          "data": {
            "text/plain": [
              "[passagem, reserve]"
            ]
          },
          "metadata": {
            "tags": []
          },
          "execution_count": 40
        }
      ]
    },
    {
      "cell_type": "code",
      "metadata": {
        "id": "O411j0dQdyUt",
        "colab": {
          "base_uri": "https://localhost:8080/",
          "height": 35
        },
        "outputId": "082199b8-0d0d-4046-a916-22194e297333"
      },
      "source": [
        "list(destino.ancestors)"
      ],
      "execution_count": null,
      "outputs": [
        {
          "output_type": "execute_result",
          "data": {
            "text/plain": [
              "[chegando, reserve]"
            ]
          },
          "metadata": {
            "tags": []
          },
          "execution_count": 41
        }
      ]
    },
    {
      "cell_type": "code",
      "metadata": {
        "id": "jRjT1GWReP7T",
        "colab": {
          "base_uri": "https://localhost:8080/",
          "height": 35
        },
        "outputId": "5cf92a3a-6eab-4064-8ce5-cb9dcd6f5cf3"
      },
      "source": [
        "documento[0].is_ancestor(documento[2])"
      ],
      "execution_count": null,
      "outputs": [
        {
          "output_type": "execute_result",
          "data": {
            "text/plain": [
              "True"
            ]
          },
          "metadata": {
            "tags": []
          },
          "execution_count": 42
        }
      ]
    },
    {
      "cell_type": "markdown",
      "metadata": {
        "id": "i5j9bqKvokEj"
      },
      "source": [
        "## Exemplo 2"
      ]
    },
    {
      "cell_type": "code",
      "metadata": {
        "id": "ZiQPTG4xevSh"
      },
      "source": [
        "documento = pln('Reserva de uma mesa para o restaurante e de um táxi para o hotel')"
      ],
      "execution_count": null,
      "outputs": []
    },
    {
      "cell_type": "code",
      "metadata": {
        "id": "OstZUBbne4EN"
      },
      "source": [
        "tarefas = documento[3], documento[10]\n",
        "locais = documento[6], documento[13]"
      ],
      "execution_count": null,
      "outputs": []
    },
    {
      "cell_type": "code",
      "metadata": {
        "id": "dzMFFPgVfA8Z",
        "colab": {
          "base_uri": "https://localhost:8080/",
          "height": 35
        },
        "outputId": "fc0ddc52-e08f-489f-832a-1391efb69923"
      },
      "source": [
        "tarefas, locais"
      ],
      "execution_count": null,
      "outputs": [
        {
          "output_type": "execute_result",
          "data": {
            "text/plain": [
              "((mesa, táxi), (restaurante, hotel))"
            ]
          },
          "metadata": {
            "tags": []
          },
          "execution_count": 45
        }
      ]
    },
    {
      "cell_type": "code",
      "metadata": {
        "id": "AL2g1U62fTNg",
        "colab": {
          "base_uri": "https://localhost:8080/",
          "height": 155
        },
        "outputId": "c5e6b0ac-4747-4e64-bbc4-705508a7edb0"
      },
      "source": [
        "for local in locais:\n",
        "  print('-----', local)\n",
        "  for objeto in local.ancestors:\n",
        "    print(objeto)"
      ],
      "execution_count": null,
      "outputs": [
        {
          "output_type": "stream",
          "text": [
            "----- restaurante\n",
            "mesa\n",
            "Reserva\n",
            "----- hotel\n",
            "táxi\n",
            "restaurante\n",
            "mesa\n",
            "Reserva\n"
          ],
          "name": "stdout"
        }
      ]
    },
    {
      "cell_type": "code",
      "metadata": {
        "id": "fkfypRypfzbN",
        "colab": {
          "base_uri": "https://localhost:8080/",
          "height": 52
        },
        "outputId": "cb176392-73d4-44e9-cc34-c49a04a254da"
      },
      "source": [
        "for local in locais:\n",
        "  for objeto in local.ancestors:\n",
        "    if objeto in tarefas:\n",
        "      print(\"Reserva de {} é para o {}\".format(objeto, local))\n",
        "      break"
      ],
      "execution_count": null,
      "outputs": [
        {
          "output_type": "stream",
          "text": [
            "Reserva de mesa é para o restaurante\n",
            "Reserva de táxi é para o hotel\n"
          ],
          "name": "stdout"
        }
      ]
    },
    {
      "cell_type": "code",
      "metadata": {
        "id": "R6p3b25SgmLB",
        "colab": {
          "base_uri": "https://localhost:8080/",
          "height": 35
        },
        "outputId": "b9c9ac86-c642-498e-b4ee-56a76a8074bf"
      },
      "source": [
        "list(documento[6].children)"
      ],
      "execution_count": null,
      "outputs": [
        {
          "output_type": "execute_result",
          "data": {
            "text/plain": [
              "[para, o, táxi]"
            ]
          },
          "metadata": {
            "tags": []
          },
          "execution_count": 49
        }
      ]
    },
    {
      "cell_type": "markdown",
      "metadata": {
        "id": "NRXWYfXbol9-"
      },
      "source": [
        "## Exemplo 3"
      ]
    },
    {
      "cell_type": "code",
      "metadata": {
        "id": "5m5mEyhohKpS"
      },
      "source": [
        "from spacy import displacy"
      ],
      "execution_count": null,
      "outputs": []
    },
    {
      "cell_type": "code",
      "metadata": {
        "id": "g2Dr629nhQu5"
      },
      "source": [
        "documento = pln('Reserva de uma mesa para o restaurante e de um táxi para o hotel')"
      ],
      "execution_count": null,
      "outputs": []
    },
    {
      "cell_type": "code",
      "metadata": {
        "id": "PROUVvRHhUp-",
        "colab": {
          "base_uri": "https://localhost:8080/",
          "height": 358
        },
        "outputId": "5ba63634-8e2b-429e-8014-0ed4d438e226"
      },
      "source": [
        "#displacy.serve(documento, style='dep')\n",
        "displacy.render(documento, style='dep', jupyter=True, options={'distance': 90})"
      ],
      "execution_count": null,
      "outputs": [
        {
          "output_type": "display_data",
          "data": {
            "text/html": [
              "<svg xmlns=\"http://www.w3.org/2000/svg\" xmlns:xlink=\"http://www.w3.org/1999/xlink\" xml:lang=\"pt\" id=\"37f1180496994460be0f76d1c5917888-0\" class=\"displacy\" width=\"1310\" height=\"317.0\" direction=\"ltr\" style=\"max-width: none; height: 317.0px; color: #000000; background: #ffffff; font-family: Arial; direction: ltr\">\n",
              "<text class=\"displacy-token\" fill=\"currentColor\" text-anchor=\"middle\" y=\"227.0\">\n",
              "    <tspan class=\"displacy-word\" fill=\"currentColor\" x=\"50\">Reserva</tspan>\n",
              "    <tspan class=\"displacy-tag\" dy=\"2em\" fill=\"currentColor\" x=\"50\">NOUN</tspan>\n",
              "</text>\n",
              "\n",
              "<text class=\"displacy-token\" fill=\"currentColor\" text-anchor=\"middle\" y=\"227.0\">\n",
              "    <tspan class=\"displacy-word\" fill=\"currentColor\" x=\"140\">de</tspan>\n",
              "    <tspan class=\"displacy-tag\" dy=\"2em\" fill=\"currentColor\" x=\"140\">ADP</tspan>\n",
              "</text>\n",
              "\n",
              "<text class=\"displacy-token\" fill=\"currentColor\" text-anchor=\"middle\" y=\"227.0\">\n",
              "    <tspan class=\"displacy-word\" fill=\"currentColor\" x=\"230\">uma</tspan>\n",
              "    <tspan class=\"displacy-tag\" dy=\"2em\" fill=\"currentColor\" x=\"230\">DET</tspan>\n",
              "</text>\n",
              "\n",
              "<text class=\"displacy-token\" fill=\"currentColor\" text-anchor=\"middle\" y=\"227.0\">\n",
              "    <tspan class=\"displacy-word\" fill=\"currentColor\" x=\"320\">mesa</tspan>\n",
              "    <tspan class=\"displacy-tag\" dy=\"2em\" fill=\"currentColor\" x=\"320\">NOUN</tspan>\n",
              "</text>\n",
              "\n",
              "<text class=\"displacy-token\" fill=\"currentColor\" text-anchor=\"middle\" y=\"227.0\">\n",
              "    <tspan class=\"displacy-word\" fill=\"currentColor\" x=\"410\">para</tspan>\n",
              "    <tspan class=\"displacy-tag\" dy=\"2em\" fill=\"currentColor\" x=\"410\">ADP</tspan>\n",
              "</text>\n",
              "\n",
              "<text class=\"displacy-token\" fill=\"currentColor\" text-anchor=\"middle\" y=\"227.0\">\n",
              "    <tspan class=\"displacy-word\" fill=\"currentColor\" x=\"500\">o</tspan>\n",
              "    <tspan class=\"displacy-tag\" dy=\"2em\" fill=\"currentColor\" x=\"500\">DET</tspan>\n",
              "</text>\n",
              "\n",
              "<text class=\"displacy-token\" fill=\"currentColor\" text-anchor=\"middle\" y=\"227.0\">\n",
              "    <tspan class=\"displacy-word\" fill=\"currentColor\" x=\"590\">restaurante</tspan>\n",
              "    <tspan class=\"displacy-tag\" dy=\"2em\" fill=\"currentColor\" x=\"590\">NOUN</tspan>\n",
              "</text>\n",
              "\n",
              "<text class=\"displacy-token\" fill=\"currentColor\" text-anchor=\"middle\" y=\"227.0\">\n",
              "    <tspan class=\"displacy-word\" fill=\"currentColor\" x=\"680\">e</tspan>\n",
              "    <tspan class=\"displacy-tag\" dy=\"2em\" fill=\"currentColor\" x=\"680\">CCONJ</tspan>\n",
              "</text>\n",
              "\n",
              "<text class=\"displacy-token\" fill=\"currentColor\" text-anchor=\"middle\" y=\"227.0\">\n",
              "    <tspan class=\"displacy-word\" fill=\"currentColor\" x=\"770\">de</tspan>\n",
              "    <tspan class=\"displacy-tag\" dy=\"2em\" fill=\"currentColor\" x=\"770\">ADP</tspan>\n",
              "</text>\n",
              "\n",
              "<text class=\"displacy-token\" fill=\"currentColor\" text-anchor=\"middle\" y=\"227.0\">\n",
              "    <tspan class=\"displacy-word\" fill=\"currentColor\" x=\"860\">um</tspan>\n",
              "    <tspan class=\"displacy-tag\" dy=\"2em\" fill=\"currentColor\" x=\"860\">DET</tspan>\n",
              "</text>\n",
              "\n",
              "<text class=\"displacy-token\" fill=\"currentColor\" text-anchor=\"middle\" y=\"227.0\">\n",
              "    <tspan class=\"displacy-word\" fill=\"currentColor\" x=\"950\">táxi</tspan>\n",
              "    <tspan class=\"displacy-tag\" dy=\"2em\" fill=\"currentColor\" x=\"950\">NOUN</tspan>\n",
              "</text>\n",
              "\n",
              "<text class=\"displacy-token\" fill=\"currentColor\" text-anchor=\"middle\" y=\"227.0\">\n",
              "    <tspan class=\"displacy-word\" fill=\"currentColor\" x=\"1040\">para</tspan>\n",
              "    <tspan class=\"displacy-tag\" dy=\"2em\" fill=\"currentColor\" x=\"1040\">ADP</tspan>\n",
              "</text>\n",
              "\n",
              "<text class=\"displacy-token\" fill=\"currentColor\" text-anchor=\"middle\" y=\"227.0\">\n",
              "    <tspan class=\"displacy-word\" fill=\"currentColor\" x=\"1130\">o</tspan>\n",
              "    <tspan class=\"displacy-tag\" dy=\"2em\" fill=\"currentColor\" x=\"1130\">DET</tspan>\n",
              "</text>\n",
              "\n",
              "<text class=\"displacy-token\" fill=\"currentColor\" text-anchor=\"middle\" y=\"227.0\">\n",
              "    <tspan class=\"displacy-word\" fill=\"currentColor\" x=\"1220\">hotel</tspan>\n",
              "    <tspan class=\"displacy-tag\" dy=\"2em\" fill=\"currentColor\" x=\"1220\">NOUN</tspan>\n",
              "</text>\n",
              "\n",
              "<g class=\"displacy-arrow\">\n",
              "    <path class=\"displacy-arc\" id=\"arrow-37f1180496994460be0f76d1c5917888-0-0\" stroke-width=\"2px\" d=\"M160,182.0 C160,92.0 310.0,92.0 310.0,182.0\" fill=\"none\" stroke=\"currentColor\"/>\n",
              "    <text dy=\"1.25em\" style=\"font-size: 0.8em; letter-spacing: 1px\">\n",
              "        <textPath xlink:href=\"#arrow-37f1180496994460be0f76d1c5917888-0-0\" class=\"displacy-label\" startOffset=\"50%\" side=\"left\" fill=\"currentColor\" text-anchor=\"middle\">case</textPath>\n",
              "    </text>\n",
              "    <path class=\"displacy-arrowhead\" d=\"M160,184.0 L152,172.0 168,172.0\" fill=\"currentColor\"/>\n",
              "</g>\n",
              "\n",
              "<g class=\"displacy-arrow\">\n",
              "    <path class=\"displacy-arc\" id=\"arrow-37f1180496994460be0f76d1c5917888-0-1\" stroke-width=\"2px\" d=\"M250,182.0 C250,137.0 305.0,137.0 305.0,182.0\" fill=\"none\" stroke=\"currentColor\"/>\n",
              "    <text dy=\"1.25em\" style=\"font-size: 0.8em; letter-spacing: 1px\">\n",
              "        <textPath xlink:href=\"#arrow-37f1180496994460be0f76d1c5917888-0-1\" class=\"displacy-label\" startOffset=\"50%\" side=\"left\" fill=\"currentColor\" text-anchor=\"middle\">det</textPath>\n",
              "    </text>\n",
              "    <path class=\"displacy-arrowhead\" d=\"M250,184.0 L242,172.0 258,172.0\" fill=\"currentColor\"/>\n",
              "</g>\n",
              "\n",
              "<g class=\"displacy-arrow\">\n",
              "    <path class=\"displacy-arc\" id=\"arrow-37f1180496994460be0f76d1c5917888-0-2\" stroke-width=\"2px\" d=\"M70,182.0 C70,47.0 315.0,47.0 315.0,182.0\" fill=\"none\" stroke=\"currentColor\"/>\n",
              "    <text dy=\"1.25em\" style=\"font-size: 0.8em; letter-spacing: 1px\">\n",
              "        <textPath xlink:href=\"#arrow-37f1180496994460be0f76d1c5917888-0-2\" class=\"displacy-label\" startOffset=\"50%\" side=\"left\" fill=\"currentColor\" text-anchor=\"middle\">nmod</textPath>\n",
              "    </text>\n",
              "    <path class=\"displacy-arrowhead\" d=\"M315.0,184.0 L323.0,172.0 307.0,172.0\" fill=\"currentColor\"/>\n",
              "</g>\n",
              "\n",
              "<g class=\"displacy-arrow\">\n",
              "    <path class=\"displacy-arc\" id=\"arrow-37f1180496994460be0f76d1c5917888-0-3\" stroke-width=\"2px\" d=\"M430,182.0 C430,92.0 580.0,92.0 580.0,182.0\" fill=\"none\" stroke=\"currentColor\"/>\n",
              "    <text dy=\"1.25em\" style=\"font-size: 0.8em; letter-spacing: 1px\">\n",
              "        <textPath xlink:href=\"#arrow-37f1180496994460be0f76d1c5917888-0-3\" class=\"displacy-label\" startOffset=\"50%\" side=\"left\" fill=\"currentColor\" text-anchor=\"middle\">case</textPath>\n",
              "    </text>\n",
              "    <path class=\"displacy-arrowhead\" d=\"M430,184.0 L422,172.0 438,172.0\" fill=\"currentColor\"/>\n",
              "</g>\n",
              "\n",
              "<g class=\"displacy-arrow\">\n",
              "    <path class=\"displacy-arc\" id=\"arrow-37f1180496994460be0f76d1c5917888-0-4\" stroke-width=\"2px\" d=\"M520,182.0 C520,137.0 575.0,137.0 575.0,182.0\" fill=\"none\" stroke=\"currentColor\"/>\n",
              "    <text dy=\"1.25em\" style=\"font-size: 0.8em; letter-spacing: 1px\">\n",
              "        <textPath xlink:href=\"#arrow-37f1180496994460be0f76d1c5917888-0-4\" class=\"displacy-label\" startOffset=\"50%\" side=\"left\" fill=\"currentColor\" text-anchor=\"middle\">det</textPath>\n",
              "    </text>\n",
              "    <path class=\"displacy-arrowhead\" d=\"M520,184.0 L512,172.0 528,172.0\" fill=\"currentColor\"/>\n",
              "</g>\n",
              "\n",
              "<g class=\"displacy-arrow\">\n",
              "    <path class=\"displacy-arc\" id=\"arrow-37f1180496994460be0f76d1c5917888-0-5\" stroke-width=\"2px\" d=\"M340,182.0 C340,47.0 585.0,47.0 585.0,182.0\" fill=\"none\" stroke=\"currentColor\"/>\n",
              "    <text dy=\"1.25em\" style=\"font-size: 0.8em; letter-spacing: 1px\">\n",
              "        <textPath xlink:href=\"#arrow-37f1180496994460be0f76d1c5917888-0-5\" class=\"displacy-label\" startOffset=\"50%\" side=\"left\" fill=\"currentColor\" text-anchor=\"middle\">nmod</textPath>\n",
              "    </text>\n",
              "    <path class=\"displacy-arrowhead\" d=\"M585.0,184.0 L593.0,172.0 577.0,172.0\" fill=\"currentColor\"/>\n",
              "</g>\n",
              "\n",
              "<g class=\"displacy-arrow\">\n",
              "    <path class=\"displacy-arc\" id=\"arrow-37f1180496994460be0f76d1c5917888-0-6\" stroke-width=\"2px\" d=\"M700,182.0 C700,47.0 945.0,47.0 945.0,182.0\" fill=\"none\" stroke=\"currentColor\"/>\n",
              "    <text dy=\"1.25em\" style=\"font-size: 0.8em; letter-spacing: 1px\">\n",
              "        <textPath xlink:href=\"#arrow-37f1180496994460be0f76d1c5917888-0-6\" class=\"displacy-label\" startOffset=\"50%\" side=\"left\" fill=\"currentColor\" text-anchor=\"middle\">cc</textPath>\n",
              "    </text>\n",
              "    <path class=\"displacy-arrowhead\" d=\"M700,184.0 L692,172.0 708,172.0\" fill=\"currentColor\"/>\n",
              "</g>\n",
              "\n",
              "<g class=\"displacy-arrow\">\n",
              "    <path class=\"displacy-arc\" id=\"arrow-37f1180496994460be0f76d1c5917888-0-7\" stroke-width=\"2px\" d=\"M790,182.0 C790,92.0 940.0,92.0 940.0,182.0\" fill=\"none\" stroke=\"currentColor\"/>\n",
              "    <text dy=\"1.25em\" style=\"font-size: 0.8em; letter-spacing: 1px\">\n",
              "        <textPath xlink:href=\"#arrow-37f1180496994460be0f76d1c5917888-0-7\" class=\"displacy-label\" startOffset=\"50%\" side=\"left\" fill=\"currentColor\" text-anchor=\"middle\">case</textPath>\n",
              "    </text>\n",
              "    <path class=\"displacy-arrowhead\" d=\"M790,184.0 L782,172.0 798,172.0\" fill=\"currentColor\"/>\n",
              "</g>\n",
              "\n",
              "<g class=\"displacy-arrow\">\n",
              "    <path class=\"displacy-arc\" id=\"arrow-37f1180496994460be0f76d1c5917888-0-8\" stroke-width=\"2px\" d=\"M880,182.0 C880,137.0 935.0,137.0 935.0,182.0\" fill=\"none\" stroke=\"currentColor\"/>\n",
              "    <text dy=\"1.25em\" style=\"font-size: 0.8em; letter-spacing: 1px\">\n",
              "        <textPath xlink:href=\"#arrow-37f1180496994460be0f76d1c5917888-0-8\" class=\"displacy-label\" startOffset=\"50%\" side=\"left\" fill=\"currentColor\" text-anchor=\"middle\">det</textPath>\n",
              "    </text>\n",
              "    <path class=\"displacy-arrowhead\" d=\"M880,184.0 L872,172.0 888,172.0\" fill=\"currentColor\"/>\n",
              "</g>\n",
              "\n",
              "<g class=\"displacy-arrow\">\n",
              "    <path class=\"displacy-arc\" id=\"arrow-37f1180496994460be0f76d1c5917888-0-9\" stroke-width=\"2px\" d=\"M610,182.0 C610,2.0 950.0,2.0 950.0,182.0\" fill=\"none\" stroke=\"currentColor\"/>\n",
              "    <text dy=\"1.25em\" style=\"font-size: 0.8em; letter-spacing: 1px\">\n",
              "        <textPath xlink:href=\"#arrow-37f1180496994460be0f76d1c5917888-0-9\" class=\"displacy-label\" startOffset=\"50%\" side=\"left\" fill=\"currentColor\" text-anchor=\"middle\">conj</textPath>\n",
              "    </text>\n",
              "    <path class=\"displacy-arrowhead\" d=\"M950.0,184.0 L958.0,172.0 942.0,172.0\" fill=\"currentColor\"/>\n",
              "</g>\n",
              "\n",
              "<g class=\"displacy-arrow\">\n",
              "    <path class=\"displacy-arc\" id=\"arrow-37f1180496994460be0f76d1c5917888-0-10\" stroke-width=\"2px\" d=\"M1060,182.0 C1060,92.0 1210.0,92.0 1210.0,182.0\" fill=\"none\" stroke=\"currentColor\"/>\n",
              "    <text dy=\"1.25em\" style=\"font-size: 0.8em; letter-spacing: 1px\">\n",
              "        <textPath xlink:href=\"#arrow-37f1180496994460be0f76d1c5917888-0-10\" class=\"displacy-label\" startOffset=\"50%\" side=\"left\" fill=\"currentColor\" text-anchor=\"middle\">case</textPath>\n",
              "    </text>\n",
              "    <path class=\"displacy-arrowhead\" d=\"M1060,184.0 L1052,172.0 1068,172.0\" fill=\"currentColor\"/>\n",
              "</g>\n",
              "\n",
              "<g class=\"displacy-arrow\">\n",
              "    <path class=\"displacy-arc\" id=\"arrow-37f1180496994460be0f76d1c5917888-0-11\" stroke-width=\"2px\" d=\"M1150,182.0 C1150,137.0 1205.0,137.0 1205.0,182.0\" fill=\"none\" stroke=\"currentColor\"/>\n",
              "    <text dy=\"1.25em\" style=\"font-size: 0.8em; letter-spacing: 1px\">\n",
              "        <textPath xlink:href=\"#arrow-37f1180496994460be0f76d1c5917888-0-11\" class=\"displacy-label\" startOffset=\"50%\" side=\"left\" fill=\"currentColor\" text-anchor=\"middle\">det</textPath>\n",
              "    </text>\n",
              "    <path class=\"displacy-arrowhead\" d=\"M1150,184.0 L1142,172.0 1158,172.0\" fill=\"currentColor\"/>\n",
              "</g>\n",
              "\n",
              "<g class=\"displacy-arrow\">\n",
              "    <path class=\"displacy-arc\" id=\"arrow-37f1180496994460be0f76d1c5917888-0-12\" stroke-width=\"2px\" d=\"M970,182.0 C970,47.0 1215.0,47.0 1215.0,182.0\" fill=\"none\" stroke=\"currentColor\"/>\n",
              "    <text dy=\"1.25em\" style=\"font-size: 0.8em; letter-spacing: 1px\">\n",
              "        <textPath xlink:href=\"#arrow-37f1180496994460be0f76d1c5917888-0-12\" class=\"displacy-label\" startOffset=\"50%\" side=\"left\" fill=\"currentColor\" text-anchor=\"middle\">nmod</textPath>\n",
              "    </text>\n",
              "    <path class=\"displacy-arrowhead\" d=\"M1215.0,184.0 L1223.0,172.0 1207.0,172.0\" fill=\"currentColor\"/>\n",
              "</g>\n",
              "</svg>"
            ],
            "text/plain": [
              "<IPython.core.display.HTML object>"
            ]
          },
          "metadata": {
            "tags": []
          }
        }
      ]
    },
    {
      "cell_type": "code",
      "metadata": {
        "id": "t51t20FIh_4o",
        "colab": {
          "base_uri": "https://localhost:8080/",
          "height": 35
        },
        "outputId": "e8e2a422-e9e7-4fc3-c5b6-82afacf54e79"
      },
      "source": [
        "list(documento[3].ancestors)"
      ],
      "execution_count": null,
      "outputs": [
        {
          "output_type": "execute_result",
          "data": {
            "text/plain": [
              "[Reserva]"
            ]
          },
          "metadata": {
            "tags": []
          },
          "execution_count": 53
        }
      ]
    },
    {
      "cell_type": "code",
      "metadata": {
        "id": "Zinh6-Z0iW69",
        "colab": {
          "base_uri": "https://localhost:8080/",
          "height": 35
        },
        "outputId": "6d41ec46-0619-46c2-e75a-e9c8d32db8c4"
      },
      "source": [
        "list(documento[3].children)"
      ],
      "execution_count": null,
      "outputs": [
        {
          "output_type": "execute_result",
          "data": {
            "text/plain": [
              "[de, uma, restaurante]"
            ]
          },
          "metadata": {
            "tags": []
          },
          "execution_count": 54
        }
      ]
    },
    {
      "cell_type": "markdown",
      "metadata": {
        "id": "Yfwi5m-4qQt2"
      },
      "source": [
        "## Exemplo 4"
      ]
    },
    {
      "cell_type": "code",
      "metadata": {
        "id": "APjnI_E6i2bv",
        "colab": {
          "base_uri": "https://localhost:8080/",
          "height": 35
        },
        "outputId": "fc45e031-8f82-497c-e3b5-4bb2ee62af95"
      },
      "source": [
        "documento = pln('Que locais podemos visitar em Curitiba e para ficar em Guarulhos?')\n",
        "lugares = documento[5], documento[10]\n",
        "acoes = documento[3], documento[8]\n",
        "lugares, acoes"
      ],
      "execution_count": null,
      "outputs": [
        {
          "output_type": "execute_result",
          "data": {
            "text/plain": [
              "((Curitiba, Guarulhos), (visitar, ficar))"
            ]
          },
          "metadata": {
            "tags": []
          },
          "execution_count": 55
        }
      ]
    },
    {
      "cell_type": "code",
      "metadata": {
        "id": "RLNvvM4TjMMP",
        "colab": {
          "base_uri": "https://localhost:8080/",
          "height": 52
        },
        "outputId": "58861bed-76c3-4fa5-8b0e-e4d95d662aaf"
      },
      "source": [
        "for local in lugares:\n",
        "  for acao in local.ancestors:\n",
        "    if acao in acoes:\n",
        "      print(\"{} para {}\".format(local, acao))\n",
        "      break"
      ],
      "execution_count": null,
      "outputs": [
        {
          "output_type": "stream",
          "text": [
            "Curitiba para visitar\n",
            "Guarulhos para ficar\n"
          ],
          "name": "stdout"
        }
      ]
    },
    {
      "cell_type": "code",
      "metadata": {
        "id": "ts_qM2UkjcAI",
        "colab": {
          "base_uri": "https://localhost:8080/",
          "height": 294
        },
        "outputId": "5f39950a-ed6b-4e7e-81ce-917a719ed08b"
      },
      "source": [
        "displacy.render(documento, style='dep', jupyter=True, options={'distance': 90})"
      ],
      "execution_count": null,
      "outputs": [
        {
          "output_type": "display_data",
          "data": {
            "text/html": [
              "<svg xmlns=\"http://www.w3.org/2000/svg\" xmlns:xlink=\"http://www.w3.org/1999/xlink\" xml:lang=\"pt\" id=\"b243761ef7a54134ab2c73e342f8e98e-0\" class=\"displacy\" width=\"1040\" height=\"272.0\" direction=\"ltr\" style=\"max-width: none; height: 272.0px; color: #000000; background: #ffffff; font-family: Arial; direction: ltr\">\n",
              "<text class=\"displacy-token\" fill=\"currentColor\" text-anchor=\"middle\" y=\"182.0\">\n",
              "    <tspan class=\"displacy-word\" fill=\"currentColor\" x=\"50\">Que</tspan>\n",
              "    <tspan class=\"displacy-tag\" dy=\"2em\" fill=\"currentColor\" x=\"50\">DET</tspan>\n",
              "</text>\n",
              "\n",
              "<text class=\"displacy-token\" fill=\"currentColor\" text-anchor=\"middle\" y=\"182.0\">\n",
              "    <tspan class=\"displacy-word\" fill=\"currentColor\" x=\"140\">locais</tspan>\n",
              "    <tspan class=\"displacy-tag\" dy=\"2em\" fill=\"currentColor\" x=\"140\">PROPN</tspan>\n",
              "</text>\n",
              "\n",
              "<text class=\"displacy-token\" fill=\"currentColor\" text-anchor=\"middle\" y=\"182.0\">\n",
              "    <tspan class=\"displacy-word\" fill=\"currentColor\" x=\"230\">podemos</tspan>\n",
              "    <tspan class=\"displacy-tag\" dy=\"2em\" fill=\"currentColor\" x=\"230\">AUX</tspan>\n",
              "</text>\n",
              "\n",
              "<text class=\"displacy-token\" fill=\"currentColor\" text-anchor=\"middle\" y=\"182.0\">\n",
              "    <tspan class=\"displacy-word\" fill=\"currentColor\" x=\"320\">visitar</tspan>\n",
              "    <tspan class=\"displacy-tag\" dy=\"2em\" fill=\"currentColor\" x=\"320\">VERB</tspan>\n",
              "</text>\n",
              "\n",
              "<text class=\"displacy-token\" fill=\"currentColor\" text-anchor=\"middle\" y=\"182.0\">\n",
              "    <tspan class=\"displacy-word\" fill=\"currentColor\" x=\"410\">em</tspan>\n",
              "    <tspan class=\"displacy-tag\" dy=\"2em\" fill=\"currentColor\" x=\"410\">ADP</tspan>\n",
              "</text>\n",
              "\n",
              "<text class=\"displacy-token\" fill=\"currentColor\" text-anchor=\"middle\" y=\"182.0\">\n",
              "    <tspan class=\"displacy-word\" fill=\"currentColor\" x=\"500\">Curitiba</tspan>\n",
              "    <tspan class=\"displacy-tag\" dy=\"2em\" fill=\"currentColor\" x=\"500\">PROPN</tspan>\n",
              "</text>\n",
              "\n",
              "<text class=\"displacy-token\" fill=\"currentColor\" text-anchor=\"middle\" y=\"182.0\">\n",
              "    <tspan class=\"displacy-word\" fill=\"currentColor\" x=\"590\">e</tspan>\n",
              "    <tspan class=\"displacy-tag\" dy=\"2em\" fill=\"currentColor\" x=\"590\">CCONJ</tspan>\n",
              "</text>\n",
              "\n",
              "<text class=\"displacy-token\" fill=\"currentColor\" text-anchor=\"middle\" y=\"182.0\">\n",
              "    <tspan class=\"displacy-word\" fill=\"currentColor\" x=\"680\">para</tspan>\n",
              "    <tspan class=\"displacy-tag\" dy=\"2em\" fill=\"currentColor\" x=\"680\">ADP</tspan>\n",
              "</text>\n",
              "\n",
              "<text class=\"displacy-token\" fill=\"currentColor\" text-anchor=\"middle\" y=\"182.0\">\n",
              "    <tspan class=\"displacy-word\" fill=\"currentColor\" x=\"770\">ficar</tspan>\n",
              "    <tspan class=\"displacy-tag\" dy=\"2em\" fill=\"currentColor\" x=\"770\">VERB</tspan>\n",
              "</text>\n",
              "\n",
              "<text class=\"displacy-token\" fill=\"currentColor\" text-anchor=\"middle\" y=\"182.0\">\n",
              "    <tspan class=\"displacy-word\" fill=\"currentColor\" x=\"860\">em</tspan>\n",
              "    <tspan class=\"displacy-tag\" dy=\"2em\" fill=\"currentColor\" x=\"860\">ADP</tspan>\n",
              "</text>\n",
              "\n",
              "<text class=\"displacy-token\" fill=\"currentColor\" text-anchor=\"middle\" y=\"182.0\">\n",
              "    <tspan class=\"displacy-word\" fill=\"currentColor\" x=\"950\">Guarulhos?</tspan>\n",
              "    <tspan class=\"displacy-tag\" dy=\"2em\" fill=\"currentColor\" x=\"950\">PROPN</tspan>\n",
              "</text>\n",
              "\n",
              "<g class=\"displacy-arrow\">\n",
              "    <path class=\"displacy-arc\" id=\"arrow-b243761ef7a54134ab2c73e342f8e98e-0-0\" stroke-width=\"2px\" d=\"M70,137.0 C70,92.0 130.0,92.0 130.0,137.0\" fill=\"none\" stroke=\"currentColor\"/>\n",
              "    <text dy=\"1.25em\" style=\"font-size: 0.8em; letter-spacing: 1px\">\n",
              "        <textPath xlink:href=\"#arrow-b243761ef7a54134ab2c73e342f8e98e-0-0\" class=\"displacy-label\" startOffset=\"50%\" side=\"left\" fill=\"currentColor\" text-anchor=\"middle\">det</textPath>\n",
              "    </text>\n",
              "    <path class=\"displacy-arrowhead\" d=\"M70,139.0 L62,127.0 78,127.0\" fill=\"currentColor\"/>\n",
              "</g>\n",
              "\n",
              "<g class=\"displacy-arrow\">\n",
              "    <path class=\"displacy-arc\" id=\"arrow-b243761ef7a54134ab2c73e342f8e98e-0-1\" stroke-width=\"2px\" d=\"M160,137.0 C160,47.0 315.0,47.0 315.0,137.0\" fill=\"none\" stroke=\"currentColor\"/>\n",
              "    <text dy=\"1.25em\" style=\"font-size: 0.8em; letter-spacing: 1px\">\n",
              "        <textPath xlink:href=\"#arrow-b243761ef7a54134ab2c73e342f8e98e-0-1\" class=\"displacy-label\" startOffset=\"50%\" side=\"left\" fill=\"currentColor\" text-anchor=\"middle\">nsubj</textPath>\n",
              "    </text>\n",
              "    <path class=\"displacy-arrowhead\" d=\"M160,139.0 L152,127.0 168,127.0\" fill=\"currentColor\"/>\n",
              "</g>\n",
              "\n",
              "<g class=\"displacy-arrow\">\n",
              "    <path class=\"displacy-arc\" id=\"arrow-b243761ef7a54134ab2c73e342f8e98e-0-2\" stroke-width=\"2px\" d=\"M250,137.0 C250,92.0 310.0,92.0 310.0,137.0\" fill=\"none\" stroke=\"currentColor\"/>\n",
              "    <text dy=\"1.25em\" style=\"font-size: 0.8em; letter-spacing: 1px\">\n",
              "        <textPath xlink:href=\"#arrow-b243761ef7a54134ab2c73e342f8e98e-0-2\" class=\"displacy-label\" startOffset=\"50%\" side=\"left\" fill=\"currentColor\" text-anchor=\"middle\">aux</textPath>\n",
              "    </text>\n",
              "    <path class=\"displacy-arrowhead\" d=\"M250,139.0 L242,127.0 258,127.0\" fill=\"currentColor\"/>\n",
              "</g>\n",
              "\n",
              "<g class=\"displacy-arrow\">\n",
              "    <path class=\"displacy-arc\" id=\"arrow-b243761ef7a54134ab2c73e342f8e98e-0-3\" stroke-width=\"2px\" d=\"M430,137.0 C430,92.0 490.0,92.0 490.0,137.0\" fill=\"none\" stroke=\"currentColor\"/>\n",
              "    <text dy=\"1.25em\" style=\"font-size: 0.8em; letter-spacing: 1px\">\n",
              "        <textPath xlink:href=\"#arrow-b243761ef7a54134ab2c73e342f8e98e-0-3\" class=\"displacy-label\" startOffset=\"50%\" side=\"left\" fill=\"currentColor\" text-anchor=\"middle\">case</textPath>\n",
              "    </text>\n",
              "    <path class=\"displacy-arrowhead\" d=\"M430,139.0 L422,127.0 438,127.0\" fill=\"currentColor\"/>\n",
              "</g>\n",
              "\n",
              "<g class=\"displacy-arrow\">\n",
              "    <path class=\"displacy-arc\" id=\"arrow-b243761ef7a54134ab2c73e342f8e98e-0-4\" stroke-width=\"2px\" d=\"M340,137.0 C340,47.0 495.0,47.0 495.0,137.0\" fill=\"none\" stroke=\"currentColor\"/>\n",
              "    <text dy=\"1.25em\" style=\"font-size: 0.8em; letter-spacing: 1px\">\n",
              "        <textPath xlink:href=\"#arrow-b243761ef7a54134ab2c73e342f8e98e-0-4\" class=\"displacy-label\" startOffset=\"50%\" side=\"left\" fill=\"currentColor\" text-anchor=\"middle\">obl</textPath>\n",
              "    </text>\n",
              "    <path class=\"displacy-arrowhead\" d=\"M495.0,139.0 L503.0,127.0 487.0,127.0\" fill=\"currentColor\"/>\n",
              "</g>\n",
              "\n",
              "<g class=\"displacy-arrow\">\n",
              "    <path class=\"displacy-arc\" id=\"arrow-b243761ef7a54134ab2c73e342f8e98e-0-5\" stroke-width=\"2px\" d=\"M610,137.0 C610,47.0 765.0,47.0 765.0,137.0\" fill=\"none\" stroke=\"currentColor\"/>\n",
              "    <text dy=\"1.25em\" style=\"font-size: 0.8em; letter-spacing: 1px\">\n",
              "        <textPath xlink:href=\"#arrow-b243761ef7a54134ab2c73e342f8e98e-0-5\" class=\"displacy-label\" startOffset=\"50%\" side=\"left\" fill=\"currentColor\" text-anchor=\"middle\">cc</textPath>\n",
              "    </text>\n",
              "    <path class=\"displacy-arrowhead\" d=\"M610,139.0 L602,127.0 618,127.0\" fill=\"currentColor\"/>\n",
              "</g>\n",
              "\n",
              "<g class=\"displacy-arrow\">\n",
              "    <path class=\"displacy-arc\" id=\"arrow-b243761ef7a54134ab2c73e342f8e98e-0-6\" stroke-width=\"2px\" d=\"M700,137.0 C700,92.0 760.0,92.0 760.0,137.0\" fill=\"none\" stroke=\"currentColor\"/>\n",
              "    <text dy=\"1.25em\" style=\"font-size: 0.8em; letter-spacing: 1px\">\n",
              "        <textPath xlink:href=\"#arrow-b243761ef7a54134ab2c73e342f8e98e-0-6\" class=\"displacy-label\" startOffset=\"50%\" side=\"left\" fill=\"currentColor\" text-anchor=\"middle\">mark</textPath>\n",
              "    </text>\n",
              "    <path class=\"displacy-arrowhead\" d=\"M700,139.0 L692,127.0 708,127.0\" fill=\"currentColor\"/>\n",
              "</g>\n",
              "\n",
              "<g class=\"displacy-arrow\">\n",
              "    <path class=\"displacy-arc\" id=\"arrow-b243761ef7a54134ab2c73e342f8e98e-0-7\" stroke-width=\"2px\" d=\"M340,137.0 C340,2.0 770.0,2.0 770.0,137.0\" fill=\"none\" stroke=\"currentColor\"/>\n",
              "    <text dy=\"1.25em\" style=\"font-size: 0.8em; letter-spacing: 1px\">\n",
              "        <textPath xlink:href=\"#arrow-b243761ef7a54134ab2c73e342f8e98e-0-7\" class=\"displacy-label\" startOffset=\"50%\" side=\"left\" fill=\"currentColor\" text-anchor=\"middle\">conj</textPath>\n",
              "    </text>\n",
              "    <path class=\"displacy-arrowhead\" d=\"M770.0,139.0 L778.0,127.0 762.0,127.0\" fill=\"currentColor\"/>\n",
              "</g>\n",
              "\n",
              "<g class=\"displacy-arrow\">\n",
              "    <path class=\"displacy-arc\" id=\"arrow-b243761ef7a54134ab2c73e342f8e98e-0-8\" stroke-width=\"2px\" d=\"M880,137.0 C880,92.0 940.0,92.0 940.0,137.0\" fill=\"none\" stroke=\"currentColor\"/>\n",
              "    <text dy=\"1.25em\" style=\"font-size: 0.8em; letter-spacing: 1px\">\n",
              "        <textPath xlink:href=\"#arrow-b243761ef7a54134ab2c73e342f8e98e-0-8\" class=\"displacy-label\" startOffset=\"50%\" side=\"left\" fill=\"currentColor\" text-anchor=\"middle\">case</textPath>\n",
              "    </text>\n",
              "    <path class=\"displacy-arrowhead\" d=\"M880,139.0 L872,127.0 888,127.0\" fill=\"currentColor\"/>\n",
              "</g>\n",
              "\n",
              "<g class=\"displacy-arrow\">\n",
              "    <path class=\"displacy-arc\" id=\"arrow-b243761ef7a54134ab2c73e342f8e98e-0-9\" stroke-width=\"2px\" d=\"M790,137.0 C790,47.0 945.0,47.0 945.0,137.0\" fill=\"none\" stroke=\"currentColor\"/>\n",
              "    <text dy=\"1.25em\" style=\"font-size: 0.8em; letter-spacing: 1px\">\n",
              "        <textPath xlink:href=\"#arrow-b243761ef7a54134ab2c73e342f8e98e-0-9\" class=\"displacy-label\" startOffset=\"50%\" side=\"left\" fill=\"currentColor\" text-anchor=\"middle\">obl</textPath>\n",
              "    </text>\n",
              "    <path class=\"displacy-arrowhead\" d=\"M945.0,139.0 L953.0,127.0 937.0,127.0\" fill=\"currentColor\"/>\n",
              "</g>\n",
              "</svg>"
            ],
            "text/plain": [
              "<IPython.core.display.HTML object>"
            ]
          },
          "metadata": {
            "tags": []
          }
        }
      ]
    },
    {
      "cell_type": "markdown",
      "metadata": {
        "id": "cd8PYqtyxTt8"
      },
      "source": [
        "# Etapa 7: Semelhanças entre palavras e frases\n",
        "\n",
        "- Verificar se duas palavras são semelhantes ou logicamente relacionadas\n",
        "- Usa o algoritmo GloVe (Global Vectors for Word Representation)\n",
        "- Artigo original: https://nlp.stanford.edu/pubs/glove.pdf"
      ]
    },
    {
      "cell_type": "markdown",
      "metadata": {
        "id": "pLv1PTJz0sks"
      },
      "source": [
        "## Exemplo 1"
      ]
    },
    {
      "cell_type": "code",
      "metadata": {
        "id": "mmYy8Yr7k7hv"
      },
      "source": [
        "p1 = pln(\"olá\")\n",
        "p2 = pln(\"oi\")\n",
        "p3 = pln(\"ou\")"
      ],
      "execution_count": null,
      "outputs": []
    },
    {
      "cell_type": "code",
      "metadata": {
        "id": "SCN4W5uxlFXq",
        "colab": {
          "base_uri": "https://localhost:8080/",
          "height": 89
        },
        "outputId": "98a61978-6526-4190-bbdd-31d0277267e9"
      },
      "source": [
        "p1.similarity(p2)"
      ],
      "execution_count": null,
      "outputs": [
        {
          "output_type": "stream",
          "text": [
            "/usr/lib/python3.6/runpy.py:193: ModelsWarning: [W007] The model you're using has no word vectors loaded, so the result of the Doc.similarity method will be based on the tagger, parser and NER, which may not give useful similarity judgements. This may happen if you're using one of the small models, e.g. `en_core_web_sm`, which don't ship with word vectors and only use context-sensitive tensors. You can always add your own word vectors, or use one of the larger models instead if available.\n",
            "  \"__main__\", mod_spec)\n"
          ],
          "name": "stderr"
        },
        {
          "output_type": "execute_result",
          "data": {
            "text/plain": [
              "0.8258470163434681"
            ]
          },
          "metadata": {
            "tags": []
          },
          "execution_count": 60
        }
      ]
    },
    {
      "cell_type": "code",
      "metadata": {
        "id": "ayx-A8bnlXwn",
        "colab": {
          "base_uri": "https://localhost:8080/",
          "height": 89
        },
        "outputId": "1f5ed242-acb3-4b66-d3c9-b84d68836d16"
      },
      "source": [
        "p2.similarity(p1)"
      ],
      "execution_count": null,
      "outputs": [
        {
          "output_type": "stream",
          "text": [
            "/usr/lib/python3.6/runpy.py:193: ModelsWarning: [W007] The model you're using has no word vectors loaded, so the result of the Doc.similarity method will be based on the tagger, parser and NER, which may not give useful similarity judgements. This may happen if you're using one of the small models, e.g. `en_core_web_sm`, which don't ship with word vectors and only use context-sensitive tensors. You can always add your own word vectors, or use one of the larger models instead if available.\n",
            "  \"__main__\", mod_spec)\n"
          ],
          "name": "stderr"
        },
        {
          "output_type": "execute_result",
          "data": {
            "text/plain": [
              "0.8258470163434681"
            ]
          },
          "metadata": {
            "tags": []
          },
          "execution_count": 61
        }
      ]
    },
    {
      "cell_type": "code",
      "metadata": {
        "id": "HWCoEOollco1",
        "colab": {
          "base_uri": "https://localhost:8080/",
          "height": 89
        },
        "outputId": "c9d9fd6c-c3b4-4c1f-e2a0-ec87aab39e90"
      },
      "source": [
        "p1.similarity(p3)"
      ],
      "execution_count": null,
      "outputs": [
        {
          "output_type": "stream",
          "text": [
            "/usr/lib/python3.6/runpy.py:193: ModelsWarning: [W007] The model you're using has no word vectors loaded, so the result of the Doc.similarity method will be based on the tagger, parser and NER, which may not give useful similarity judgements. This may happen if you're using one of the small models, e.g. `en_core_web_sm`, which don't ship with word vectors and only use context-sensitive tensors. You can always add your own word vectors, or use one of the larger models instead if available.\n",
            "  \"__main__\", mod_spec)\n"
          ],
          "name": "stderr"
        },
        {
          "output_type": "execute_result",
          "data": {
            "text/plain": [
              "0.556686068341704"
            ]
          },
          "metadata": {
            "tags": []
          },
          "execution_count": 62
        }
      ]
    },
    {
      "cell_type": "code",
      "metadata": {
        "id": "qCwXOf2wlm3-",
        "colab": {
          "base_uri": "https://localhost:8080/",
          "height": 89
        },
        "outputId": "134e6224-d491-4888-ca4d-b67764d510f1"
      },
      "source": [
        "p2.similarity(p3)"
      ],
      "execution_count": null,
      "outputs": [
        {
          "output_type": "stream",
          "text": [
            "/usr/lib/python3.6/runpy.py:193: ModelsWarning: [W007] The model you're using has no word vectors loaded, so the result of the Doc.similarity method will be based on the tagger, parser and NER, which may not give useful similarity judgements. This may happen if you're using one of the small models, e.g. `en_core_web_sm`, which don't ship with word vectors and only use context-sensitive tensors. You can always add your own word vectors, or use one of the larger models instead if available.\n",
            "  \"__main__\", mod_spec)\n"
          ],
          "name": "stderr"
        },
        {
          "output_type": "execute_result",
          "data": {
            "text/plain": [
              "0.5912281781129909"
            ]
          },
          "metadata": {
            "tags": []
          },
          "execution_count": 63
        }
      ]
    },
    {
      "cell_type": "code",
      "metadata": {
        "id": "L-D7aABslwTa"
      },
      "source": [
        "texto1 = pln('Quando será lançado o novo filme?')\n",
        "texto2 = pln('O novo filme será lançado mês que vem')\n",
        "texto3 = pln('Qual a cor do carro?')"
      ],
      "execution_count": null,
      "outputs": []
    },
    {
      "cell_type": "code",
      "metadata": {
        "id": "tRPBcAail9-Q",
        "colab": {
          "base_uri": "https://localhost:8080/",
          "height": 89
        },
        "outputId": "ab2737d6-99a4-4a71-cad5-0acd075bf90a"
      },
      "source": [
        "texto1.similarity(texto2)"
      ],
      "execution_count": null,
      "outputs": [
        {
          "output_type": "stream",
          "text": [
            "/usr/lib/python3.6/runpy.py:193: ModelsWarning: [W007] The model you're using has no word vectors loaded, so the result of the Doc.similarity method will be based on the tagger, parser and NER, which may not give useful similarity judgements. This may happen if you're using one of the small models, e.g. `en_core_web_sm`, which don't ship with word vectors and only use context-sensitive tensors. You can always add your own word vectors, or use one of the larger models instead if available.\n",
            "  \"__main__\", mod_spec)\n"
          ],
          "name": "stderr"
        },
        {
          "output_type": "execute_result",
          "data": {
            "text/plain": [
              "0.7954251395862586"
            ]
          },
          "metadata": {
            "tags": []
          },
          "execution_count": 65
        }
      ]
    },
    {
      "cell_type": "code",
      "metadata": {
        "id": "V1ggTh34mCjh",
        "colab": {
          "base_uri": "https://localhost:8080/",
          "height": 89
        },
        "outputId": "b4e7a767-a902-4677-c163-00cebcee5a56"
      },
      "source": [
        "texto1.similarity(texto3)"
      ],
      "execution_count": null,
      "outputs": [
        {
          "output_type": "stream",
          "text": [
            "/usr/lib/python3.6/runpy.py:193: ModelsWarning: [W007] The model you're using has no word vectors loaded, so the result of the Doc.similarity method will be based on the tagger, parser and NER, which may not give useful similarity judgements. This may happen if you're using one of the small models, e.g. `en_core_web_sm`, which don't ship with word vectors and only use context-sensitive tensors. You can always add your own word vectors, or use one of the larger models instead if available.\n",
            "  \"__main__\", mod_spec)\n"
          ],
          "name": "stderr"
        },
        {
          "output_type": "execute_result",
          "data": {
            "text/plain": [
              "0.6686739674689989"
            ]
          },
          "metadata": {
            "tags": []
          },
          "execution_count": 66
        }
      ]
    },
    {
      "cell_type": "markdown",
      "metadata": {
        "id": "c0CVDr5W0wkK"
      },
      "source": [
        "## Exemplo 2"
      ]
    },
    {
      "cell_type": "code",
      "metadata": {
        "id": "OWCYOxSkmp_i"
      },
      "source": [
        "texto = pln('gato cachorro cavalo pessoa')"
      ],
      "execution_count": null,
      "outputs": []
    },
    {
      "cell_type": "code",
      "metadata": {
        "id": "Pbk3ZPIOmypr",
        "colab": {
          "base_uri": "https://localhost:8080/",
          "height": 728
        },
        "outputId": "3efdc77f-fc9e-473f-899e-746f9e10946b"
      },
      "source": [
        "for texto1 in texto:\n",
        "  #print('----', texto1)\n",
        "  for texto2 in texto:\n",
        "    #print(texto2)\n",
        "    similaridade = int(texto1.similarity(texto2) * 100)\n",
        "    print(\"{} é {} similar a {}\".format(texto1, similaridade, texto2))"
      ],
      "execution_count": null,
      "outputs": [
        {
          "output_type": "stream",
          "text": [
            "gato é 100 similar a gato\n",
            "gato é 45 similar a cachorro\n",
            "gato é 30 similar a cavalo\n",
            "gato é 11 similar a pessoa\n",
            "cachorro é 45 similar a gato\n",
            "cachorro é 100 similar a cachorro\n",
            "cachorro é 56 similar a cavalo\n",
            "cachorro é 31 similar a pessoa\n",
            "cavalo é 30 similar a gato\n",
            "cavalo é 56 similar a cachorro\n",
            "cavalo é 100 similar a cavalo\n",
            "cavalo é 32 similar a pessoa\n",
            "pessoa é 11 similar a gato\n",
            "pessoa é 31 similar a cachorro\n",
            "pessoa é 32 similar a cavalo\n",
            "pessoa é 100 similar a pessoa\n"
          ],
          "name": "stdout"
        },
        {
          "output_type": "stream",
          "text": [
            "/usr/lib/python3.6/runpy.py:193: ModelsWarning: [W007] The model you're using has no word vectors loaded, so the result of the Token.similarity method will be based on the tagger, parser and NER, which may not give useful similarity judgements. This may happen if you're using one of the small models, e.g. `en_core_web_sm`, which don't ship with word vectors and only use context-sensitive tensors. You can always add your own word vectors, or use one of the larger models instead if available.\n",
            "  \"__main__\", mod_spec)\n",
            "/usr/lib/python3.6/runpy.py:193: ModelsWarning: [W007] The model you're using has no word vectors loaded, so the result of the Token.similarity method will be based on the tagger, parser and NER, which may not give useful similarity judgements. This may happen if you're using one of the small models, e.g. `en_core_web_sm`, which don't ship with word vectors and only use context-sensitive tensors. You can always add your own word vectors, or use one of the larger models instead if available.\n",
            "  \"__main__\", mod_spec)\n",
            "/usr/lib/python3.6/runpy.py:193: ModelsWarning: [W007] The model you're using has no word vectors loaded, so the result of the Token.similarity method will be based on the tagger, parser and NER, which may not give useful similarity judgements. This may happen if you're using one of the small models, e.g. `en_core_web_sm`, which don't ship with word vectors and only use context-sensitive tensors. You can always add your own word vectors, or use one of the larger models instead if available.\n",
            "  \"__main__\", mod_spec)\n",
            "/usr/lib/python3.6/runpy.py:193: ModelsWarning: [W007] The model you're using has no word vectors loaded, so the result of the Token.similarity method will be based on the tagger, parser and NER, which may not give useful similarity judgements. This may happen if you're using one of the small models, e.g. `en_core_web_sm`, which don't ship with word vectors and only use context-sensitive tensors. You can always add your own word vectors, or use one of the larger models instead if available.\n",
            "  \"__main__\", mod_spec)\n",
            "/usr/lib/python3.6/runpy.py:193: ModelsWarning: [W007] The model you're using has no word vectors loaded, so the result of the Token.similarity method will be based on the tagger, parser and NER, which may not give useful similarity judgements. This may happen if you're using one of the small models, e.g. `en_core_web_sm`, which don't ship with word vectors and only use context-sensitive tensors. You can always add your own word vectors, or use one of the larger models instead if available.\n",
            "  \"__main__\", mod_spec)\n",
            "/usr/lib/python3.6/runpy.py:193: ModelsWarning: [W007] The model you're using has no word vectors loaded, so the result of the Token.similarity method will be based on the tagger, parser and NER, which may not give useful similarity judgements. This may happen if you're using one of the small models, e.g. `en_core_web_sm`, which don't ship with word vectors and only use context-sensitive tensors. You can always add your own word vectors, or use one of the larger models instead if available.\n",
            "  \"__main__\", mod_spec)\n",
            "/usr/lib/python3.6/runpy.py:193: ModelsWarning: [W007] The model you're using has no word vectors loaded, so the result of the Token.similarity method will be based on the tagger, parser and NER, which may not give useful similarity judgements. This may happen if you're using one of the small models, e.g. `en_core_web_sm`, which don't ship with word vectors and only use context-sensitive tensors. You can always add your own word vectors, or use one of the larger models instead if available.\n",
            "  \"__main__\", mod_spec)\n",
            "/usr/lib/python3.6/runpy.py:193: ModelsWarning: [W007] The model you're using has no word vectors loaded, so the result of the Token.similarity method will be based on the tagger, parser and NER, which may not give useful similarity judgements. This may happen if you're using one of the small models, e.g. `en_core_web_sm`, which don't ship with word vectors and only use context-sensitive tensors. You can always add your own word vectors, or use one of the larger models instead if available.\n",
            "  \"__main__\", mod_spec)\n",
            "/usr/lib/python3.6/runpy.py:193: ModelsWarning: [W007] The model you're using has no word vectors loaded, so the result of the Token.similarity method will be based on the tagger, parser and NER, which may not give useful similarity judgements. This may happen if you're using one of the small models, e.g. `en_core_web_sm`, which don't ship with word vectors and only use context-sensitive tensors. You can always add your own word vectors, or use one of the larger models instead if available.\n",
            "  \"__main__\", mod_spec)\n",
            "/usr/lib/python3.6/runpy.py:193: ModelsWarning: [W007] The model you're using has no word vectors loaded, so the result of the Token.similarity method will be based on the tagger, parser and NER, which may not give useful similarity judgements. This may happen if you're using one of the small models, e.g. `en_core_web_sm`, which don't ship with word vectors and only use context-sensitive tensors. You can always add your own word vectors, or use one of the larger models instead if available.\n",
            "  \"__main__\", mod_spec)\n",
            "/usr/lib/python3.6/runpy.py:193: ModelsWarning: [W007] The model you're using has no word vectors loaded, so the result of the Token.similarity method will be based on the tagger, parser and NER, which may not give useful similarity judgements. This may happen if you're using one of the small models, e.g. `en_core_web_sm`, which don't ship with word vectors and only use context-sensitive tensors. You can always add your own word vectors, or use one of the larger models instead if available.\n",
            "  \"__main__\", mod_spec)\n",
            "/usr/lib/python3.6/runpy.py:193: ModelsWarning: [W007] The model you're using has no word vectors loaded, so the result of the Token.similarity method will be based on the tagger, parser and NER, which may not give useful similarity judgements. This may happen if you're using one of the small models, e.g. `en_core_web_sm`, which don't ship with word vectors and only use context-sensitive tensors. You can always add your own word vectors, or use one of the larger models instead if available.\n",
            "  \"__main__\", mod_spec)\n"
          ],
          "name": "stderr"
        }
      ]
    },
    {
      "cell_type": "markdown",
      "metadata": {
        "id": "zcgAkuB346vV"
      },
      "source": [
        "# Etapa 8: Tokenização"
      ]
    },
    {
      "cell_type": "code",
      "metadata": {
        "id": "mZuGK8j_n8WB"
      },
      "source": [
        "documento = pln('Estou aprendendo processamento de linguagem natural, curso em Curitiba')"
      ],
      "execution_count": null,
      "outputs": []
    },
    {
      "cell_type": "code",
      "metadata": {
        "id": "dtr3c4WEoA0c",
        "colab": {
          "base_uri": "https://localhost:8080/",
          "height": 190
        },
        "outputId": "334966fc-abac-4b83-b4de-3af333c97754"
      },
      "source": [
        "for token in documento:\n",
        "  print(token)"
      ],
      "execution_count": null,
      "outputs": [
        {
          "output_type": "stream",
          "text": [
            "Estou\n",
            "aprendendo\n",
            "processamento\n",
            "de\n",
            "linguagem\n",
            "natural\n",
            ",\n",
            "curso\n",
            "em\n",
            "Curitiba\n"
          ],
          "name": "stdout"
        }
      ]
    },
    {
      "cell_type": "code",
      "metadata": {
        "id": "F0D5zthsoJi3",
        "colab": {
          "base_uri": "https://localhost:8080/",
          "height": 173
        },
        "outputId": "0f0dfc46-cc8b-4bfb-fde3-5a4920c3fd64"
      },
      "source": [
        "documento1 = 'Estou aprendendo processamento de linguagem natural, curso em Curitiba'\n",
        "documento1.split(' ')"
      ],
      "execution_count": null,
      "outputs": [
        {
          "output_type": "execute_result",
          "data": {
            "text/plain": [
              "['Estou',\n",
              " 'aprendendo',\n",
              " 'processamento',\n",
              " 'de',\n",
              " 'linguagem',\n",
              " 'natural,',\n",
              " 'curso',\n",
              " 'em',\n",
              " 'Curitiba']"
            ]
          },
          "metadata": {
            "tags": []
          },
          "execution_count": 74
        }
      ]
    }
  ]
}